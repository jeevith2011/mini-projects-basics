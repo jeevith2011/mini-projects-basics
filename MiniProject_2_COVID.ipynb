{
  "nbformat": 4,
  "nbformat_minor": 0,
  "metadata": {
    "colab": {
      "provenance": [],
      "authorship_tag": "ABX9TyOxUp0XTjynzYPPiBI4o86K",
      "include_colab_link": true
    },
    "kernelspec": {
      "name": "python3",
      "display_name": "Python 3"
    },
    "language_info": {
      "name": "python"
    }
  },
  "cells": [
    {
      "cell_type": "markdown",
      "metadata": {
        "id": "view-in-github",
        "colab_type": "text"
      },
      "source": [
        "<a href=\"https://colab.research.google.com/github/jeevith2011/mini-projects-basics/blob/main/Basics_2.ipynb\" target=\"_parent\"><img src=\"https://colab.research.google.com/assets/colab-badge.svg\" alt=\"Open In Colab\"/></a>"
      ]
    },
    {
      "cell_type": "markdown",
      "source": [
        "\n",
        "\n",
        "---\n",
        "\n",
        "\n",
        "# **Tips**\n",
        "Some tips that will get you started (and help you when you're confused)"
      ],
      "metadata": {
        "id": "VpThHjSaByCE"
      }
    },
    {
      "cell_type": "markdown",
      "source": [
        "##Weekly meeting tips\n",
        "\n",
        "\n",
        "1.   These meeting are recorded! Keep it short and sweet!\n",
        "2.   Describe your what you achieved in code in 5-10 minutes.\n",
        "3.   What is blocking you? Any blockers? Explain it in a weekly meeting.\n",
        "\n"
      ],
      "metadata": {
        "id": "HMJtCqVg4pnf"
      }
    },
    {
      "cell_type": "markdown",
      "source": [
        "## Confused? Here's the steps to finish the project:\n",
        "\n",
        "\n",
        "1. Read the readme document\n",
        "2. Watch pair coding videos in order by date\n",
        "3. Code with the videos\n",
        "4. If you have any problems, describe it in a weekly meeting and it will be fixed\n",
        "5. When done, push to Git/GitHub\n",
        "6. Also, make a presentation about what you learned\n",
        "7. Once completed with the whole section, do the final report"
      ],
      "metadata": {
        "id": "ERYkyTXF3YMU"
      }
    },
    {
      "cell_type": "markdown",
      "source": [
        "**Also, make sure to change the compute engine when switching miniprojects.**\n",
        "\n",
        "**That's it!**\n",
        "\n",
        "### **If you are experiencing issues with setup scripts, add the Zoom-Recordings-Common folder after the MyDrive folder.**"
      ],
      "metadata": {
        "id": "tNkKOqoD_pKz"
      }
    },
    {
      "cell_type": "markdown",
      "source": [
        "\n",
        "\n",
        "---\n",
        "\n",
        "\n",
        "#**MiniProject 2**\n",
        "Covid Vaccine (8 tasks)"
      ],
      "metadata": {
        "id": "mLy5cKgmJP2M"
      }
    },
    {
      "cell_type": "markdown",
      "source": [
        "##Setup the files and stuff\n",
        "\n",
        "Setup (will ask for Google credentials at first use)"
      ],
      "metadata": {
        "id": "23bVg0mDJlRP"
      }
    },
    {
      "cell_type": "code",
      "source": [
        "from google.colab import drive\n",
        "# NOTE: this will pop up asking for google login permission\n",
        "drive.mount('/content/drive')\n",
        "# linux command to list the files under linux running\n",
        "#Colab Jupyter notebook (prints dir/files/links in your Drive)\n",
        "\n",
        "!ls -ltr /content/drive/MyDrive/ | grep *.csv\n",
        "!ls -ltr /content/drive/MyDrive/dataset/dataset_csv/\n",
        "!ls -ltr /content/drive/MyDrive/dataset/dataset_csv/dataset-covid-2/us-counties-recent.csv | grep dataset\n",
        "!ls -ltr /content/drive/MyDrive/dataset/dataset_csv/dataset-covid-2/us-counties.csv | grep dataset"
      ],
      "metadata": {
        "colab": {
          "base_uri": "https://localhost:8080/"
        },
        "id": "nqqYqay6U-Q_",
        "outputId": "44a92a20-a2d5-4904-ac01-0df390d8a4bd"
      },
      "execution_count": null,
      "outputs": [
        {
          "output_type": "stream",
          "name": "stdout",
          "text": [
            "Mounted at /content/drive\n",
            "ls: /content/drive/MyDrive/dataset: No such file or directory\n",
            "total 52\n",
            "dr-x------ 2 root root 4096 Feb 26  2022 dataset-titanic\n",
            "dr-x------ 2 root root 4096 Feb 26  2022 dataset-powerlifting-csv\n",
            "dr-x------ 2 root root 4096 Feb 26  2022 dataset_open_crime_uk\n",
            "dr-x------ 2 root root 4096 Feb 26  2022 dataset-google-scholar\n",
            "dr-x------ 2 root root 4096 Feb 26  2022 dataset_ebola\n",
            "dr-x------ 2 root root 4096 Feb 26  2022 dataset-domestic-flights-from-1990-to-2009\n",
            "dr-x------ 2 root root 4096 Feb 26  2022 dataset-covid-2\n",
            "dr-x------ 2 root root 4096 Feb 26  2022 dataset-covid\n",
            "dr-x------ 2 root root 4096 Feb 26  2022 dataset-airports\n",
            "dr-x------ 2 root root 4096 Feb 26  2022 dataset-hr\n",
            "dr-x------ 2 root root 4096 Feb 27  2022 dataset-forest-fire\n",
            "dr-x------ 2 root root 4096 Mar  5  2022 dataset-museum-artifacts\n",
            "dr-x------ 2 root root 4096 Mar  5  2022 dataset-world-economy-worldbank\n",
            "-r-------- 1 root root 4174593 Jan 10  2022 /content/drive/MyDrive/dataset/dataset_csv/dataset-covid-2/us-counties-recent.csv\n",
            "-r-------- 1 root root 87436511 Jan 10  2022 /content/drive/MyDrive/dataset/dataset_csv/dataset-covid-2/us-counties.csv\n"
          ]
        }
      ]
    },
    {
      "cell_type": "markdown",
      "source": [
        "Snippet to start a task"
      ],
      "metadata": {
        "id": "fKoY4_dqVKyL"
      }
    },
    {
      "cell_type": "code",
      "source": [
        "import pandas as pd\n",
        "from pandas.core.algorithms import value_counts\n",
        "from IPython.core.interactiveshell import InteractiveShell\n",
        "InteractiveShell.ast_node_interactivity = 'all'\n",
        "\n",
        "df_us_counties_recent = pd.read_csv(\"/content/drive/MyDrive/dataset/dataset_csv/dataset-covid-2/us-counties-recent.csv\")\n",
        "df_us_counties = pd.read_csv(\"/content/drive/MyDrive/dataset/dataset_csv/dataset-covid-2/us-counties.csv\")\n",
        "df = pd.concat([df_us_counties_recent, df_us_counties])"
      ],
      "metadata": {
        "colab": {
          "base_uri": "https://localhost:8080/",
          "height": 206
        },
        "id": "3j8xnW9zVUVK",
        "outputId": "5caac523-fb05-4661-b54f-ac6d4235c04f"
      },
      "execution_count": null,
      "outputs": [
        {
          "output_type": "execute_result",
          "data": {
            "text/plain": [
              "         date   county    state    fips  cases  deaths\n",
              "0  2021-12-11  Autauga  Alabama  1001.0  10596   158.0\n",
              "1  2021-12-11  Baldwin  Alabama  1003.0  38307   591.0\n",
              "2  2021-12-11  Barbour  Alabama  1005.0   3716    81.0\n",
              "3  2021-12-11     Bibb  Alabama  1007.0   4379    95.0\n",
              "4  2021-12-11   Blount  Alabama  1009.0  10857   193.0"
            ],
            "text/html": [
              "\n",
              "  <div id=\"df-a3a53865-ce08-4f09-9798-75919b0ed263\">\n",
              "    <div class=\"colab-df-container\">\n",
              "      <div>\n",
              "<style scoped>\n",
              "    .dataframe tbody tr th:only-of-type {\n",
              "        vertical-align: middle;\n",
              "    }\n",
              "\n",
              "    .dataframe tbody tr th {\n",
              "        vertical-align: top;\n",
              "    }\n",
              "\n",
              "    .dataframe thead th {\n",
              "        text-align: right;\n",
              "    }\n",
              "</style>\n",
              "<table border=\"1\" class=\"dataframe\">\n",
              "  <thead>\n",
              "    <tr style=\"text-align: right;\">\n",
              "      <th></th>\n",
              "      <th>date</th>\n",
              "      <th>county</th>\n",
              "      <th>state</th>\n",
              "      <th>fips</th>\n",
              "      <th>cases</th>\n",
              "      <th>deaths</th>\n",
              "    </tr>\n",
              "  </thead>\n",
              "  <tbody>\n",
              "    <tr>\n",
              "      <th>0</th>\n",
              "      <td>2021-12-11</td>\n",
              "      <td>Autauga</td>\n",
              "      <td>Alabama</td>\n",
              "      <td>1001.0</td>\n",
              "      <td>10596</td>\n",
              "      <td>158.0</td>\n",
              "    </tr>\n",
              "    <tr>\n",
              "      <th>1</th>\n",
              "      <td>2021-12-11</td>\n",
              "      <td>Baldwin</td>\n",
              "      <td>Alabama</td>\n",
              "      <td>1003.0</td>\n",
              "      <td>38307</td>\n",
              "      <td>591.0</td>\n",
              "    </tr>\n",
              "    <tr>\n",
              "      <th>2</th>\n",
              "      <td>2021-12-11</td>\n",
              "      <td>Barbour</td>\n",
              "      <td>Alabama</td>\n",
              "      <td>1005.0</td>\n",
              "      <td>3716</td>\n",
              "      <td>81.0</td>\n",
              "    </tr>\n",
              "    <tr>\n",
              "      <th>3</th>\n",
              "      <td>2021-12-11</td>\n",
              "      <td>Bibb</td>\n",
              "      <td>Alabama</td>\n",
              "      <td>1007.0</td>\n",
              "      <td>4379</td>\n",
              "      <td>95.0</td>\n",
              "    </tr>\n",
              "    <tr>\n",
              "      <th>4</th>\n",
              "      <td>2021-12-11</td>\n",
              "      <td>Blount</td>\n",
              "      <td>Alabama</td>\n",
              "      <td>1009.0</td>\n",
              "      <td>10857</td>\n",
              "      <td>193.0</td>\n",
              "    </tr>\n",
              "  </tbody>\n",
              "</table>\n",
              "</div>\n",
              "      <button class=\"colab-df-convert\" onclick=\"convertToInteractive('df-a3a53865-ce08-4f09-9798-75919b0ed263')\"\n",
              "              title=\"Convert this dataframe to an interactive table.\"\n",
              "              style=\"display:none;\">\n",
              "        \n",
              "  <svg xmlns=\"http://www.w3.org/2000/svg\" height=\"24px\"viewBox=\"0 0 24 24\"\n",
              "       width=\"24px\">\n",
              "    <path d=\"M0 0h24v24H0V0z\" fill=\"none\"/>\n",
              "    <path d=\"M18.56 5.44l.94 2.06.94-2.06 2.06-.94-2.06-.94-.94-2.06-.94 2.06-2.06.94zm-11 1L8.5 8.5l.94-2.06 2.06-.94-2.06-.94L8.5 2.5l-.94 2.06-2.06.94zm10 10l.94 2.06.94-2.06 2.06-.94-2.06-.94-.94-2.06-.94 2.06-2.06.94z\"/><path d=\"M17.41 7.96l-1.37-1.37c-.4-.4-.92-.59-1.43-.59-.52 0-1.04.2-1.43.59L10.3 9.45l-7.72 7.72c-.78.78-.78 2.05 0 2.83L4 21.41c.39.39.9.59 1.41.59.51 0 1.02-.2 1.41-.59l7.78-7.78 2.81-2.81c.8-.78.8-2.07 0-2.86zM5.41 20L4 18.59l7.72-7.72 1.47 1.35L5.41 20z\"/>\n",
              "  </svg>\n",
              "      </button>\n",
              "      \n",
              "  <style>\n",
              "    .colab-df-container {\n",
              "      display:flex;\n",
              "      flex-wrap:wrap;\n",
              "      gap: 12px;\n",
              "    }\n",
              "\n",
              "    .colab-df-convert {\n",
              "      background-color: #E8F0FE;\n",
              "      border: none;\n",
              "      border-radius: 50%;\n",
              "      cursor: pointer;\n",
              "      display: none;\n",
              "      fill: #1967D2;\n",
              "      height: 32px;\n",
              "      padding: 0 0 0 0;\n",
              "      width: 32px;\n",
              "    }\n",
              "\n",
              "    .colab-df-convert:hover {\n",
              "      background-color: #E2EBFA;\n",
              "      box-shadow: 0px 1px 2px rgba(60, 64, 67, 0.3), 0px 1px 3px 1px rgba(60, 64, 67, 0.15);\n",
              "      fill: #174EA6;\n",
              "    }\n",
              "\n",
              "    [theme=dark] .colab-df-convert {\n",
              "      background-color: #3B4455;\n",
              "      fill: #D2E3FC;\n",
              "    }\n",
              "\n",
              "    [theme=dark] .colab-df-convert:hover {\n",
              "      background-color: #434B5C;\n",
              "      box-shadow: 0px 1px 3px 1px rgba(0, 0, 0, 0.15);\n",
              "      filter: drop-shadow(0px 1px 2px rgba(0, 0, 0, 0.3));\n",
              "      fill: #FFFFFF;\n",
              "    }\n",
              "  </style>\n",
              "\n",
              "      <script>\n",
              "        const buttonEl =\n",
              "          document.querySelector('#df-a3a53865-ce08-4f09-9798-75919b0ed263 button.colab-df-convert');\n",
              "        buttonEl.style.display =\n",
              "          google.colab.kernel.accessAllowed ? 'block' : 'none';\n",
              "\n",
              "        async function convertToInteractive(key) {\n",
              "          const element = document.querySelector('#df-a3a53865-ce08-4f09-9798-75919b0ed263');\n",
              "          const dataTable =\n",
              "            await google.colab.kernel.invokeFunction('convertToInteractive',\n",
              "                                                     [key], {});\n",
              "          if (!dataTable) return;\n",
              "\n",
              "          const docLinkHtml = 'Like what you see? Visit the ' +\n",
              "            '<a target=\"_blank\" href=https://colab.research.google.com/notebooks/data_table.ipynb>data table notebook</a>'\n",
              "            + ' to learn more about interactive tables.';\n",
              "          element.innerHTML = '';\n",
              "          dataTable['output_type'] = 'display_data';\n",
              "          await google.colab.output.renderOutput(dataTable, element);\n",
              "          const docLink = document.createElement('div');\n",
              "          docLink.innerHTML = docLinkHtml;\n",
              "          element.appendChild(docLink);\n",
              "        }\n",
              "      </script>\n",
              "    </div>\n",
              "  </div>\n",
              "  "
            ]
          },
          "metadata": {},
          "execution_count": 7
        }
      ]
    },
    {
      "cell_type": "markdown",
      "source": [
        "## Main Project\n",
        "1&2: Top 10 states with highest total death in 2020/2021"
      ],
      "metadata": {
        "id": "AxdNduvFJnfs"
      }
    },
    {
      "cell_type": "code",
      "source": [
        "### PROGRAM CONFIGURATIONS\n",
        "\n",
        "# Year: Year for cases to occur in\n",
        "year = 2021\n",
        "\n",
        "### END PROGRAM CONFIGURATIONS\n",
        "import pandas as pd\n",
        "from pandas.core.algorithms import value_counts\n",
        "from IPython.core.interactiveshell import InteractiveShell\n",
        "InteractiveShell.ast_node_interactivity = 'all'\n",
        "\n",
        "df_us_counties_recent = pd.read_csv(\"/content/drive/MyDrive/dataset/dataset_csv/dataset-covid-2/us-counties-recent.csv\")\n",
        "df_us_counties = pd.read_csv(\"/content/drive/MyDrive/dataset/dataset_csv/dataset-covid-2/us-counties.csv\")\n",
        "df = pd.concat([df_us_counties_recent, df_us_counties])\n",
        "\n",
        "df = df[df['date'].str.match(f'({year})', na=False)]\n",
        "\n",
        "values = df['state'].value_counts()\n",
        "\n",
        "print(values[:10], f'year = {year}', sep='\\n\\n')"
      ],
      "metadata": {
        "id": "FQLIx98tYFSR"
      },
      "execution_count": null,
      "outputs": []
    },
    {
      "cell_type": "markdown",
      "source": [
        "3&4. Top 10 highest average death in 2020/2021"
      ],
      "metadata": {
        "id": "4GebGprNAbvm"
      }
    },
    {
      "cell_type": "code",
      "source": [
        "### PROGRAM CONFIGURATIONS\n",
        "\n",
        "# Year: Year for cases to occur in\n",
        "year = 2021\n",
        "### END PROGRAM CONFIGURATIONS\n",
        "import pandas as pd\n",
        "from pandas.core.algorithms import value_counts\n",
        "\n",
        "df_us_counties_recent = pd.read_csv(\"/content/drive/MyDrive/dataset/dataset_csv/dataset-covid-2/us-counties-recent.csv\")\n",
        "df_us_counties = pd.read_csv(\"/content/drive/MyDrive/dataset/dataset_csv/dataset-covid-2/us-counties.csv\")\n",
        "df = pd.concat([df_us_counties_recent, df_us_counties])\n",
        "\n",
        "df = df[df['date'].str.match(f'({year})', na=False)]\n",
        "df = df.groupby(['state']).mean()\n",
        "\n",
        "df = df.sort_values(by='deaths', ascending=False)\n",
        "df.insert(0, 'rank', [i+1 for i in range(56)])\n",
        "\n",
        "print(df.head(10), f'year = {year}', sep='\\n\\n')"
      ],
      "metadata": {
        "id": "IiJ-AqFJBlc1",
        "colab": {
          "base_uri": "https://localhost:8080/"
        },
        "outputId": "0be072c3-d9e4-40b5-ba2e-550d56ce74af"
      },
      "execution_count": null,
      "outputs": [
        {
          "output_type": "stream",
          "name": "stdout",
          "text": [
            "                      rank          fips         cases       deaths\n",
            "state                                                              \n",
            "Puerto Rico              1  72076.705128   2302.645963  2613.453368\n",
            "Arizona                  2   4013.866667  65021.607486  1217.010302\n",
            "Massachusetts            3  25014.000000  49281.753195  1182.652850\n",
            "New Jersey               4  34021.000000  47092.932642  1178.831135\n",
            "District of Columbia     5  11001.000000  53376.336788  1110.603627\n",
            "California               6   6058.000000  71761.529538  1077.473320\n",
            "Connecticut              7   9008.000000  39366.500576   911.553541\n",
            "New York                 8  36062.543860  37514.745891   899.656155\n",
            "Florida                  9  12067.910448  40180.783984   633.979770\n",
            "Rhode Island            10  44005.000000  26279.331606   447.870466\n",
            "\n",
            "year = 2021\n"
          ]
        }
      ]
    },
    {
      "cell_type": "markdown",
      "source": [
        "5. Top 10 counties with highest total death in 2021 and 2020"
      ],
      "metadata": {
        "id": "Tknay25kyc7p"
      }
    },
    {
      "cell_type": "code",
      "source": [
        "### NO PROGRAM CONFIGURATIONS ###\n",
        "import pandas as pd\n",
        "from pandas.core.algorithms import value_counts\n",
        "from IPython.core.interactiveshell import InteractiveShell\n",
        "InteractiveShell.ast_node_interactivity = 'all'\n",
        "\n",
        "df_us_counties_recent = pd.read_csv(\"/content/drive/MyDrive/dataset/dataset_csv/dataset-covid-2/us-counties-recent.csv\")\n",
        "df_us_counties = pd.read_csv(\"/content/drive/MyDrive/dataset/dataset_csv/dataset-covid-2/us-counties.csv\")\n",
        "df = pd.concat([df_us_counties_recent, df_us_counties])\n",
        "\n",
        "df1 = df[df['date'].str.match(f'(2020)', na=False)]\n",
        "df2 = df[df['date'].str.match(f'(2021)', na=False)]\n",
        "df = pd.concat([df1, df2])\n",
        "\n",
        "values = df['county'].value_counts()\n",
        "\n",
        "print(values[:10])"
      ],
      "metadata": {
        "colab": {
          "base_uri": "https://localhost:8080/"
        },
        "id": "Vix7LmRQzJxF",
        "outputId": "df35b26a-6c9c-4281-d612-c2b467a4698e"
      },
      "execution_count": null,
      "outputs": [
        {
          "output_type": "stream",
          "name": "stdout",
          "text": [
            "Washington    20743\n",
            "Unknown       17806\n",
            "Jefferson     17379\n",
            "Franklin      16657\n",
            "Jackson       15879\n",
            "Lincoln       15841\n",
            "Madison       13330\n",
            "Montgomery    12065\n",
            "Union         11956\n",
            "Clay          11892\n",
            "Name: county, dtype: int64\n"
          ]
        }
      ]
    },
    {
      "cell_type": "markdown",
      "source": [
        "6. Print pairs of counties in different states"
      ],
      "metadata": {
        "id": "9360IraenyGA"
      }
    },
    {
      "cell_type": "code",
      "source": [
        "### NO PROGRAM CONFIGURATIONS ###\n",
        "import pandas as pd\n",
        "import collections\n",
        "from pandas.core.algorithms import value_counts\n",
        "from IPython.core.interactiveshell import InteractiveShell\n",
        "InteractiveShell.ast_node_interactivity = 'all'\n",
        "\n",
        "df_us_counties_recent = pd.read_csv(\"/content/drive/MyDrive/dataset/dataset_csv/dataset-covid-2/us-counties-recent.csv\")\n",
        "df_us_counties = pd.read_csv(\"/content/drive/MyDrive/dataset/dataset_csv/dataset-covid-2/us-counties.csv\")\n",
        "df = pd.concat([df_us_counties_recent, df_us_counties])\n",
        "\n",
        "df2 = df.groupby('county')['state'].nunique().to_frame('count_state') \\\n",
        "    .reset_index()\n",
        "\n",
        "print(df2)"
      ],
      "metadata": {
        "id": "DzJKa8rJuIBJ",
        "colab": {
          "base_uri": "https://localhost:8080/"
        },
        "outputId": "cc9359bb-4ecb-4b1b-8856-0fe768a315f6"
      },
      "execution_count": null,
      "outputs": [
        {
          "output_type": "stream",
          "name": "stdout",
          "text": [
            "                         county  count_state\n",
            "0                     Abbeville            1\n",
            "1                        Acadia            1\n",
            "2                      Accomack            1\n",
            "3                           Ada            1\n",
            "4                         Adair            4\n",
            "...                         ...          ...\n",
            "1925  Yukon-Koyukuk Census Area            1\n",
            "1926                       Yuma            2\n",
            "1927                     Zapata            1\n",
            "1928                     Zavala            1\n",
            "1929                    Ziebach            1\n",
            "\n",
            "[1930 rows x 2 columns]\n"
          ]
        }
      ]
    },
    {
      "cell_type": "markdown",
      "source": [
        "7.  Top 10 least death state in 2020/2021 (special output)"
      ],
      "metadata": {
        "id": "4wrBCa6HVeBQ"
      }
    },
    {
      "cell_type": "code",
      "source": [
        "### PROGRAM CONFIGURATIONS\n",
        "\n",
        "# Year: Year for cases to occur in\n",
        "year = 2021\n",
        "\n",
        "### END PROGRAM CONFIGURATIONS\n",
        "import pandas as pd\n",
        "import collections\n",
        "from pandas.core.algorithms import value_counts\n",
        "from IPython.core.interactiveshell import InteractiveShell\n",
        "InteractiveShell.ast_node_interactivity = 'all'\n",
        "\n",
        "df_us_counties_recent = pd.read_csv(\"/content/drive/MyDrive/dataset/dataset_csv/dataset-covid-2/us-counties-recent.csv\")\n",
        "df_us_counties = pd.read_csv(\"/content/drive/MyDrive/dataset/dataset_csv/dataset-covid-2/us-counties.csv\")\n",
        "df = pd.concat([df_us_counties_recent, df_us_counties])\n",
        "\n",
        "df = df[df['date'].str.match(f'({year})', na=False)]\n",
        "\n",
        "values = df['state'].value_counts().to_frame()\n",
        "\n",
        "values = values.to_dict()\n",
        "values = values['state']\n",
        "\n",
        "state, deaths = list(values.keys()), list(values.values())\n",
        "state, deaths = list(reversed(state)), list(reversed(deaths))\n",
        "\n",
        "print(f'year = {year}\\nstate, death_total, rank\\n') # states include territories\n",
        "\n",
        "for i in range(10):\n",
        "  print(state[i], deaths[i], i+1, sep=', ')"
      ],
      "metadata": {
        "id": "L7SV9ujZV-pI",
        "colab": {
          "base_uri": "https://localhost:8080/"
        },
        "outputId": "5b9e7065-39a6-4e60-c293-fa37d7d5a708"
      },
      "execution_count": null,
      "outputs": [
        {
          "output_type": "stream",
          "name": "stdout",
          "text": [
            "year = 2021\n",
            "state, death_total, rank\n",
            "\n",
            "American Samoa, 127, 1\n",
            "Guam, 386, 2\n",
            "District of Columbia, 386, 3\n",
            "Northern Mariana Islands, 900, 4\n",
            "Virgin Islands, 1187, 5\n",
            "Delaware, 1544, 6\n",
            "Hawaii, 2082, 7\n",
            "Rhode Island, 2316, 8\n",
            "Connecticut, 3474, 9\n",
            "New Hampshire, 4246, 10\n"
          ]
        }
      ]
    },
    {
      "cell_type": "markdown",
      "source": [
        "8. Print Top 10 most/least deaths in states from cases in Oct-Dec 2021. Needs to be ranked. Output it as a file in this folder: **/content/drive/MyDrive/data_preprocessing**"
      ],
      "metadata": {
        "id": "s1wH0LUVDtR0"
      }
    },
    {
      "cell_type": "code",
      "source": [
        "### MINI-TASKS\n",
        "#1. Filter states from Oct-Dec 2021 (done)\n",
        "#2. Reverse them depending on user input and get first 10 (done)\n",
        "#3. Rank them and turn it into a human-readable format (done)\n",
        "#4. Save it into a text file and upload it into Google Drive (done)\n",
        "\n",
        "### PROGRAM CONFIGURATIONS ###\n",
        "\n",
        "# Sort: type 'most' to get most deaths and 'least' (or anything else) to get least deaths\n",
        "sort = 'most'\n",
        "\n",
        "# Mode: sets mode for file creation in Google Drive\n",
        "mode = 'r+'\n",
        "\n",
        "### END PROGRAM CONFIGURATIONS ###\n",
        "\n",
        "import pandas as pd\n",
        "from pandas.core.algorithms import value_counts\n",
        "from IPython.core.interactiveshell import InteractiveShell\n",
        "InteractiveShell.ast_node_interactivity = 'all'\n",
        "\n",
        "df_us_counties_recent = pd.read_csv(\"/content/drive/MyDrive/dataset/dataset_csv/dataset-covid-2/us-counties-recent.csv\")\n",
        "df_us_counties = pd.read_csv(\"/content/drive/MyDrive/dataset/dataset_csv/dataset-covid-2/us-counties.csv\")\n",
        "df = pd.concat([df_us_counties_recent, df_us_counties])\n",
        "\n",
        "#Task 1\n",
        "\n",
        "sept = df[df['date'].str.match('(2021-09)', na=False)]\n",
        "oct1 = df[df['date'].str.match('(2021-10)', na=False)] # renamed to oct1 instead of oct because \"oct\" is a existing function\n",
        "nov = df[df['date'].str.match('(2021-11)', na=False)]\n",
        "dec = df[df['date'].str.match('(2021-12)', na=False)]\n",
        "df = pd.concat([sept, oct1, nov, dec])\n",
        "\n",
        "#Task 2\n",
        "\n",
        "df.sort_values(by=['deaths'])\n",
        "\n",
        "if sort == 'most':\n",
        "  df = df.loc[::-1].reset_index(drop=True)\n",
        "\n",
        "#Task 3\n",
        "\n",
        "df = df['state'].value_counts().to_frame()\n",
        "df = df.head(10).to_dict()['state']\n",
        "states, deaths = list(df.keys()), list(df.values())\n",
        "\n",
        "txt = ''\n",
        "\n",
        "for i in range(10):\n",
        "  txt = f'{txt}\\n{i+1}. {states[i]} with {deaths[i]} deaths'\n",
        "\n",
        "#Task 4\n",
        "\n",
        "with open('/content/drive/MyDrive/data_preprocessing/corona.txt', mode) as file:\n",
        "  file.truncate()\n",
        "  file.write(txt)\n"
      ],
      "metadata": {
        "id": "B_PL4-2nDsBG",
        "colab": {
          "base_uri": "https://localhost:8080/",
          "height": 442
        },
        "outputId": "7f2c14f9-df5b-4e17-f7b8-93b9b045b407"
      },
      "execution_count": null,
      "outputs": [
        {
          "output_type": "execute_result",
          "data": {
            "text/plain": [
              "               date                county        state     fips  cases  deaths\n",
              "42345    2021-12-24  Skagway Municipality       Alaska   2230.0     89     0.0\n",
              "1946265  2021-11-23               Unknown      Vermont      NaN     65     0.0\n",
              "1828583  2021-10-18               Unknown     Oklahoma      NaN   8002     0.0\n",
              "2011117  2021-12-13                  King        Texas  48269.0     26     0.0\n",
              "2027495  2021-12-18               Daggett         Utah  49009.0    115     0.0\n",
              "...             ...                   ...          ...      ...    ...     ...\n",
              "2069267  2021-12-31             Vega Baja  Puerto Rico  72145.0   6053     NaN\n",
              "2069268  2021-12-31               Vieques  Puerto Rico  72147.0    360     NaN\n",
              "2069269  2021-12-31              Villalba  Puerto Rico  72149.0   1502     NaN\n",
              "2069270  2021-12-31               Yabucoa  Puerto Rico  72151.0   2227     NaN\n",
              "2069271  2021-12-31                 Yauco  Puerto Rico  72153.0   2179     NaN\n",
              "\n",
              "[464704 rows x 6 columns]"
            ],
            "text/html": [
              "\n",
              "  <div id=\"df-8f1d6ba2-809f-41d9-809b-e7eb214585b5\">\n",
              "    <div class=\"colab-df-container\">\n",
              "      <div>\n",
              "<style scoped>\n",
              "    .dataframe tbody tr th:only-of-type {\n",
              "        vertical-align: middle;\n",
              "    }\n",
              "\n",
              "    .dataframe tbody tr th {\n",
              "        vertical-align: top;\n",
              "    }\n",
              "\n",
              "    .dataframe thead th {\n",
              "        text-align: right;\n",
              "    }\n",
              "</style>\n",
              "<table border=\"1\" class=\"dataframe\">\n",
              "  <thead>\n",
              "    <tr style=\"text-align: right;\">\n",
              "      <th></th>\n",
              "      <th>date</th>\n",
              "      <th>county</th>\n",
              "      <th>state</th>\n",
              "      <th>fips</th>\n",
              "      <th>cases</th>\n",
              "      <th>deaths</th>\n",
              "    </tr>\n",
              "  </thead>\n",
              "  <tbody>\n",
              "    <tr>\n",
              "      <th>42345</th>\n",
              "      <td>2021-12-24</td>\n",
              "      <td>Skagway Municipality</td>\n",
              "      <td>Alaska</td>\n",
              "      <td>2230.0</td>\n",
              "      <td>89</td>\n",
              "      <td>0.0</td>\n",
              "    </tr>\n",
              "    <tr>\n",
              "      <th>1946265</th>\n",
              "      <td>2021-11-23</td>\n",
              "      <td>Unknown</td>\n",
              "      <td>Vermont</td>\n",
              "      <td>NaN</td>\n",
              "      <td>65</td>\n",
              "      <td>0.0</td>\n",
              "    </tr>\n",
              "    <tr>\n",
              "      <th>1828583</th>\n",
              "      <td>2021-10-18</td>\n",
              "      <td>Unknown</td>\n",
              "      <td>Oklahoma</td>\n",
              "      <td>NaN</td>\n",
              "      <td>8002</td>\n",
              "      <td>0.0</td>\n",
              "    </tr>\n",
              "    <tr>\n",
              "      <th>2011117</th>\n",
              "      <td>2021-12-13</td>\n",
              "      <td>King</td>\n",
              "      <td>Texas</td>\n",
              "      <td>48269.0</td>\n",
              "      <td>26</td>\n",
              "      <td>0.0</td>\n",
              "    </tr>\n",
              "    <tr>\n",
              "      <th>2027495</th>\n",
              "      <td>2021-12-18</td>\n",
              "      <td>Daggett</td>\n",
              "      <td>Utah</td>\n",
              "      <td>49009.0</td>\n",
              "      <td>115</td>\n",
              "      <td>0.0</td>\n",
              "    </tr>\n",
              "    <tr>\n",
              "      <th>...</th>\n",
              "      <td>...</td>\n",
              "      <td>...</td>\n",
              "      <td>...</td>\n",
              "      <td>...</td>\n",
              "      <td>...</td>\n",
              "      <td>...</td>\n",
              "    </tr>\n",
              "    <tr>\n",
              "      <th>2069267</th>\n",
              "      <td>2021-12-31</td>\n",
              "      <td>Vega Baja</td>\n",
              "      <td>Puerto Rico</td>\n",
              "      <td>72145.0</td>\n",
              "      <td>6053</td>\n",
              "      <td>NaN</td>\n",
              "    </tr>\n",
              "    <tr>\n",
              "      <th>2069268</th>\n",
              "      <td>2021-12-31</td>\n",
              "      <td>Vieques</td>\n",
              "      <td>Puerto Rico</td>\n",
              "      <td>72147.0</td>\n",
              "      <td>360</td>\n",
              "      <td>NaN</td>\n",
              "    </tr>\n",
              "    <tr>\n",
              "      <th>2069269</th>\n",
              "      <td>2021-12-31</td>\n",
              "      <td>Villalba</td>\n",
              "      <td>Puerto Rico</td>\n",
              "      <td>72149.0</td>\n",
              "      <td>1502</td>\n",
              "      <td>NaN</td>\n",
              "    </tr>\n",
              "    <tr>\n",
              "      <th>2069270</th>\n",
              "      <td>2021-12-31</td>\n",
              "      <td>Yabucoa</td>\n",
              "      <td>Puerto Rico</td>\n",
              "      <td>72151.0</td>\n",
              "      <td>2227</td>\n",
              "      <td>NaN</td>\n",
              "    </tr>\n",
              "    <tr>\n",
              "      <th>2069271</th>\n",
              "      <td>2021-12-31</td>\n",
              "      <td>Yauco</td>\n",
              "      <td>Puerto Rico</td>\n",
              "      <td>72153.0</td>\n",
              "      <td>2179</td>\n",
              "      <td>NaN</td>\n",
              "    </tr>\n",
              "  </tbody>\n",
              "</table>\n",
              "<p>464704 rows × 6 columns</p>\n",
              "</div>\n",
              "      <button class=\"colab-df-convert\" onclick=\"convertToInteractive('df-8f1d6ba2-809f-41d9-809b-e7eb214585b5')\"\n",
              "              title=\"Convert this dataframe to an interactive table.\"\n",
              "              style=\"display:none;\">\n",
              "        \n",
              "  <svg xmlns=\"http://www.w3.org/2000/svg\" height=\"24px\"viewBox=\"0 0 24 24\"\n",
              "       width=\"24px\">\n",
              "    <path d=\"M0 0h24v24H0V0z\" fill=\"none\"/>\n",
              "    <path d=\"M18.56 5.44l.94 2.06.94-2.06 2.06-.94-2.06-.94-.94-2.06-.94 2.06-2.06.94zm-11 1L8.5 8.5l.94-2.06 2.06-.94-2.06-.94L8.5 2.5l-.94 2.06-2.06.94zm10 10l.94 2.06.94-2.06 2.06-.94-2.06-.94-.94-2.06-.94 2.06-2.06.94z\"/><path d=\"M17.41 7.96l-1.37-1.37c-.4-.4-.92-.59-1.43-.59-.52 0-1.04.2-1.43.59L10.3 9.45l-7.72 7.72c-.78.78-.78 2.05 0 2.83L4 21.41c.39.39.9.59 1.41.59.51 0 1.02-.2 1.41-.59l7.78-7.78 2.81-2.81c.8-.78.8-2.07 0-2.86zM5.41 20L4 18.59l7.72-7.72 1.47 1.35L5.41 20z\"/>\n",
              "  </svg>\n",
              "      </button>\n",
              "      \n",
              "  <style>\n",
              "    .colab-df-container {\n",
              "      display:flex;\n",
              "      flex-wrap:wrap;\n",
              "      gap: 12px;\n",
              "    }\n",
              "\n",
              "    .colab-df-convert {\n",
              "      background-color: #E8F0FE;\n",
              "      border: none;\n",
              "      border-radius: 50%;\n",
              "      cursor: pointer;\n",
              "      display: none;\n",
              "      fill: #1967D2;\n",
              "      height: 32px;\n",
              "      padding: 0 0 0 0;\n",
              "      width: 32px;\n",
              "    }\n",
              "\n",
              "    .colab-df-convert:hover {\n",
              "      background-color: #E2EBFA;\n",
              "      box-shadow: 0px 1px 2px rgba(60, 64, 67, 0.3), 0px 1px 3px 1px rgba(60, 64, 67, 0.15);\n",
              "      fill: #174EA6;\n",
              "    }\n",
              "\n",
              "    [theme=dark] .colab-df-convert {\n",
              "      background-color: #3B4455;\n",
              "      fill: #D2E3FC;\n",
              "    }\n",
              "\n",
              "    [theme=dark] .colab-df-convert:hover {\n",
              "      background-color: #434B5C;\n",
              "      box-shadow: 0px 1px 3px 1px rgba(0, 0, 0, 0.15);\n",
              "      filter: drop-shadow(0px 1px 2px rgba(0, 0, 0, 0.3));\n",
              "      fill: #FFFFFF;\n",
              "    }\n",
              "  </style>\n",
              "\n",
              "      <script>\n",
              "        const buttonEl =\n",
              "          document.querySelector('#df-8f1d6ba2-809f-41d9-809b-e7eb214585b5 button.colab-df-convert');\n",
              "        buttonEl.style.display =\n",
              "          google.colab.kernel.accessAllowed ? 'block' : 'none';\n",
              "\n",
              "        async function convertToInteractive(key) {\n",
              "          const element = document.querySelector('#df-8f1d6ba2-809f-41d9-809b-e7eb214585b5');\n",
              "          const dataTable =\n",
              "            await google.colab.kernel.invokeFunction('convertToInteractive',\n",
              "                                                     [key], {});\n",
              "          if (!dataTable) return;\n",
              "\n",
              "          const docLinkHtml = 'Like what you see? Visit the ' +\n",
              "            '<a target=\"_blank\" href=https://colab.research.google.com/notebooks/data_table.ipynb>data table notebook</a>'\n",
              "            + ' to learn more about interactive tables.';\n",
              "          element.innerHTML = '';\n",
              "          dataTable['output_type'] = 'display_data';\n",
              "          await google.colab.output.renderOutput(dataTable, element);\n",
              "          const docLink = document.createElement('div');\n",
              "          docLink.innerHTML = docLinkHtml;\n",
              "          element.appendChild(docLink);\n",
              "        }\n",
              "      </script>\n",
              "    </div>\n",
              "  </div>\n",
              "  "
            ]
          },
          "metadata": {},
          "execution_count": 16
        },
        {
          "output_type": "execute_result",
          "data": {
            "text/plain": [
              "0"
            ]
          },
          "metadata": {},
          "execution_count": 16
        },
        {
          "output_type": "execute_result",
          "data": {
            "text/plain": [
              "298"
            ]
          },
          "metadata": {},
          "execution_count": 16
        }
      ]
    }
  ]
}
