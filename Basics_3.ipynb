{
  "nbformat": 4,
  "nbformat_minor": 0,
  "metadata": {
    "colab": {
      "provenance": [],
      "authorship_tag": "ABX9TyNGgwvIaxfRFwQ9mUJAp9Iq",
      "include_colab_link": true
    },
    "kernelspec": {
      "name": "python3",
      "display_name": "Python 3"
    },
    "language_info": {
      "name": "python"
    }
  },
  "cells": [
    {
      "cell_type": "markdown",
      "metadata": {
        "id": "view-in-github",
        "colab_type": "text"
      },
      "source": [
        "<a href=\"https://colab.research.google.com/github/jeevith2011/mini-projects-basics/blob/main/Basics_3.ipynb\" target=\"_parent\"><img src=\"https://colab.research.google.com/assets/colab-badge.svg\" alt=\"Open In Colab\"/></a>"
      ]
    },
    {
      "cell_type": "markdown",
      "source": [
        "\n",
        "\n",
        "---\n",
        "\n",
        "\n",
        "# **MiniProject 3**\n",
        "HR Data (9 tasks)"
      ],
      "metadata": {
        "id": "EcQpRWujzKEf"
      }
    },
    {
      "cell_type": "markdown",
      "source": [
        "##Setup the files and stuff\n",
        "\n",
        "Setup (will ask for Google credentials at first use)"
      ],
      "metadata": {
        "id": "CtIQNtne2IzF"
      }
    },
    {
      "cell_type": "code",
      "source": [
        "from google.colab import drive\n",
        "# NOTE: this will pop up asking for google login permission\n",
        "drive.mount('/content/drive')\n",
        "# linux command to list the files under linux running\n",
        "#Colab Jupyter notebook (prints dir/files/links in your Drive)\n",
        "!ls -ltr /content/drive/MyDrive/Zoom-Recordings-Common/ | grep *.csv\n",
        "!ls -ltr /content/drive/MyDrive/Zoom-Recordings-Common/dataset/dataset_csv/\n",
        "!ls -ltr /content/drive/MyDrive/Zoom-Recordings-Common/dataset/dataset_csv/dataset-hr | grep dataset\n",
        "!ls -ltr /content/drive/MyDrive/Zoom-Recordings-Common/dataset/dataset_csv/dataset-hr/HR_comma_sep.csv | grep dataset"
      ],
      "metadata": {
        "id": "mFhdsMO-2Rvq",
        "colab": {
          "base_uri": "https://localhost:8080/"
        },
        "outputId": "705d0418-33b9-4cfc-e634-d6d16e354437"
      },
      "execution_count": null,
      "outputs": [
        {
          "output_type": "stream",
          "name": "stdout",
          "text": [
            "Drive already mounted at /content/drive; to attempt to forcibly remount, call drive.mount(\"/content/drive\", force_remount=True).\n",
            "dataset-airports\t\t\t    dataset-hr\n",
            "dataset-covid\t\t\t\t    dataset-museum-artifacts\n",
            "dataset-covid-2\t\t\t\t    dataset_open_crime_uk\n",
            "dataset-domestic-flights-from-1990-to-2009  dataset-powerlifting-csv\n",
            "dataset_ebola\t\t\t\t    dataset-titanic\n",
            "dataset-forest-fire\t\t\t    dataset-world-economy-worldbank\n",
            "dataset-google-scholar\n"
          ]
        }
      ]
    },
    {
      "cell_type": "markdown",
      "source": [
        "Snippet to start a task"
      ],
      "metadata": {
        "id": "OuCVboen6eNZ"
      }
    },
    {
      "cell_type": "code",
      "source": [
        "import pandas as pd\n",
        "from pandas.core.algorithms import value_counts\n",
        "from IPython.core.interactiveshell import InteractiveShell\n",
        "InteractiveShell.ast_node_interactivity = 'all'\n",
        "\n",
        "df = pd.read_csv(\"/content/drive/MyDrive/dataset/dataset_csv/dataset-hr/HR_comma_sep.csv\")"
      ],
      "metadata": {
        "id": "n03eavOc6lvS"
      },
      "execution_count": null,
      "outputs": []
    },
    {
      "cell_type": "markdown",
      "source": [
        "##Main Project\n",
        "1. How many employees in each department"
      ],
      "metadata": {
        "id": "kDRMhpQ522Sn"
      }
    },
    {
      "cell_type": "code",
      "source": [
        "import pandas as pd\n",
        "from pandas.core.algorithms import value_counts\n",
        "from IPython.core.interactiveshell import InteractiveShell\n",
        "InteractiveShell.ast_node_interactivity = 'all'\n",
        "\n",
        "df = pd.read_csv(\"/content/drive/MyDrive/dataset/dataset_csv/dataset-hr/HR_comma_sep.csv\")\n",
        "df = df['sales'].value_counts().to_frame()\n",
        "df = df.to_dict()['sales']\n",
        "\n",
        "df = pd.DataFrame(df, index=['sales', 'num_employees'])\n",
        "df = df.swapaxes('index', 'columns')\n",
        "\n",
        "print(df)"
      ],
      "metadata": {
        "id": "G5nPv9Pr64Kc"
      },
      "execution_count": null,
      "outputs": []
    },
    {
      "cell_type": "markdown",
      "source": [
        "2. Among employees who left, get the department wise (use column \"sales\"), number of employees and rank them."
      ],
      "metadata": {
        "id": "FUyHizpN8SMU"
      }
    },
    {
      "cell_type": "code",
      "source": [
        "import pandas as pd\n",
        "from pandas.core.algorithms import value_counts\n",
        "from IPython.core.interactiveshell import InteractiveShell\n",
        "InteractiveShell.ast_node_interactivity = 'all'\n",
        "\n",
        "df = pd.read_csv(\"/content/drive/MyDrive/dataset/dataset_csv/dataset-hr/HR_comma_sep.csv\")\n",
        "df = df.loc[df['left'] == 1]\n",
        "df = df['sales'].value_counts().to_frame()\n",
        "df = df.to_dict()['sales']\n",
        "\n",
        "df = pd.DataFrame(df, index=['employees_left'])\n",
        "df = df.swapaxes('index', 'columns')\n",
        "df.insert(0, 'rank', list(range(1,11)), True)\n",
        "print(df)"
      ],
      "metadata": {
        "colab": {
          "base_uri": "https://localhost:8080/"
        },
        "id": "jByG5ph38rmc",
        "outputId": "9a3529ce-80eb-4c40-ccb4-fb6e020fa7a6"
      },
      "execution_count": null,
      "outputs": [
        {
          "output_type": "stream",
          "name": "stdout",
          "text": [
            "             rank  employees_left\n",
            "sales           1            1014\n",
            "technical       2             697\n",
            "support         3             555\n",
            "IT              4             273\n",
            "hr              5             215\n",
            "accounting      6             204\n",
            "marketing       7             203\n",
            "product_mng     8             198\n",
            "RandD           9             121\n",
            "management     10              91\n"
          ]
        }
      ]
    },
    {
      "cell_type": "markdown",
      "source": [
        "3. Average number of le (time_spend_company) and average number of monthly hours (average_monthly_hours) for the employees left and not left under each department. Sort the value by sales."
      ],
      "metadata": {
        "id": "TcTzsKlmDuNX"
      }
    },
    {
      "cell_type": "code",
      "source": [
        "import pandas as pd\n",
        "from statistics import mean\n",
        "from pandas.core.algorithms import value_counts\n",
        "from IPython.core.interactiveshell import InteractiveShell\n",
        "InteractiveShell.ast_node_interactivity = 'all'\n",
        "\n",
        "df = pd.read_csv(\"/content/drive/MyDrive/dataset/dataset_csv/dataset-hr/HR_comma_sep.csv\")\n",
        "\n",
        "out = df.groupby(['left', 'sales']) \\\n",
        "['time_spend_company', 'average_montly_hours'].mean().reset_index()\n",
        "\n",
        "print(out)"
      ],
      "metadata": {
        "colab": {
          "base_uri": "https://localhost:8080/"
        },
        "id": "kk59QNYBD0_m",
        "outputId": "66705c96-0ffd-49d5-b291-07e3c98218fe"
      },
      "execution_count": null,
      "outputs": [
        {
          "output_type": "stream",
          "name": "stdout",
          "text": [
            "    left        sales  time_spend_company  average_montly_hours\n",
            "0      0           IT            3.356394            198.886792\n",
            "1      0        RandD            3.252252            198.951952\n",
            "2      0   accounting            3.424512            199.037300\n",
            "3      0           hr            3.192748            199.250000\n",
            "4      0   management            4.395176            200.233766\n",
            "5      0    marketing            3.480916            198.888550\n",
            "6      0  product_mng            3.330966            197.765625\n",
            "7      0        sales            3.443698            199.571657\n",
            "8      0      support            3.213859            199.140980\n",
            "9      0    technical            3.222442            198.471083\n",
            "10     1           IT            3.860806            213.849817\n",
            "11     1        RandD            4.000000            210.975207\n",
            "12     1   accounting            3.794118            207.029412\n",
            "13     1           hr            3.753488            197.306977\n",
            "14     1   management            3.758242            207.263736\n",
            "15     1    marketing            3.857143            200.990148\n",
            "16     1  product_mng            3.989899            207.787879\n",
            "17     1        sales            3.812623            205.041420\n",
            "18     1      support            3.933333            205.636036\n",
            "19     1    technical            3.959828            214.183644\n"
          ]
        },
        {
          "output_type": "stream",
          "name": "stderr",
          "text": [
            "/usr/local/lib/python3.7/dist-packages/ipykernel_launcher.py:10: FutureWarning: Indexing with multiple keys (implicitly converted to a tuple of keys) will be deprecated, use a list instead.\n",
            "  # Remove the CWD from sys.path while we load stuff.\n"
          ]
        }
      ]
    },
    {
      "cell_type": "markdown",
      "source": [
        "4. Under each department, what is the minimum and maximum for both left and not left employees related to time_spend_company and average_monthly_hours. Sort the value by sales."
      ],
      "metadata": {
        "id": "l469-heEtaN0"
      }
    },
    {
      "cell_type": "code",
      "source": [
        "### PROGRAM CONFIGURATIONS\n",
        "\n",
        "# Min/Max: Choose most or least values. Only use 'min' or 'max'\n",
        "minmax = 'max'\n",
        "\n",
        "### END PROGRAM CONFIGURATIONS\n",
        "import pandas as pd\n",
        "from pandas.core.algorithms import value_counts\n",
        "from IPython.core.interactiveshell import InteractiveShell\n",
        "InteractiveShell.ast_node_interactivity = 'all'\n",
        "\n",
        "min_years_ls, min_monthly_hrs_ls, max_years_ls, max_monthly_hrs_ls = [], [], [], []\n",
        "departments = ['sales', 'technical', 'support', 'IT', 'hr', 'accounting', 'marketing', 'product_mng' ,'RandD', 'management']\n",
        "\n",
        "for i in departments:\n",
        "  df = pd.read_csv(\"/content/drive/MyDrive/dataset/dataset_csv/dataset-hr/HR_comma_sep.csv\")\n",
        "  df = df.loc[df['sales'] == i]\n",
        "\n",
        "  years = df['average_montly_hours'].value_counts().to_frame() # swapped both due to some error in data\n",
        "  monthly_hrs = df['time_spend_company'].value_counts().to_frame()\n",
        "\n",
        "  years = years['average_montly_hours'].to_list()\n",
        "  monthly_hrs = monthly_hrs['time_spend_company'].to_list()\n",
        "\n",
        "  min_years = min([int(i) for i in years])\n",
        "  max_years = max([int(i) for i in years])\n",
        "  min_monthly_hrs = min([int(i) for i in monthly_hrs])\n",
        "  max_monthly_hrs = max([int(i) for i in monthly_hrs])\n",
        "\n",
        "  min_years_ls.append(min_years)\n",
        "  min_monthly_hrs_ls.append(min_monthly_hrs)\n",
        "  max_years_ls.append(max_years)\n",
        "  max_monthly_hrs_ls.append(max_monthly_hrs)\n",
        "\n",
        "df = pd.DataFrame({'department': departments, 'min_years': min_years_ls, \\\n",
        "                   'min_monthly_hrs': min_monthly_hrs_ls, 'max_years': max_years_ls, \\\n",
        "                   'max_monthly_hrs': max_monthly_hrs_ls}, index=list(range(1,11)))\n",
        "\n",
        "print(f'minmax = {minmax}\\n\\n{df}')"
      ],
      "metadata": {
        "colab": {
          "base_uri": "https://localhost:8080/"
        },
        "id": "5j9b_d0_uKmE",
        "outputId": "bbccff11-34a9-4866-dffd-7d9f57074b73"
      },
      "execution_count": null,
      "outputs": [
        {
          "output_type": "stream",
          "name": "stdout",
          "text": [
            "minmax = max\n",
            "\n",
            "     department  min_years  min_monthly_hrs  max_years  max_monthly_hrs\n",
            "1         sales          1               48         67             1768\n",
            "2     technical          1                2         35             1161\n",
            "3       support          1               12         29              974\n",
            "4            IT          1               10         22              523\n",
            "5            hr          1                6         16              333\n",
            "6    accounting          1               10         13              335\n",
            "7     marketing          1               10         14              382\n",
            "8   product_mng          1                8         17              386\n",
            "9         RandD          1               10         17              341\n",
            "10   management          1               20         11              240\n"
          ]
        }
      ]
    },
    {
      "cell_type": "markdown",
      "source": [
        "5. Under each department, what is the minimum, maximum, average on last evaluation (last_evaluation) and satisfaction level (satisfaction_level) for both left and not left. Sort the value by sales."
      ],
      "metadata": {
        "id": "bXWdIvSfymX9"
      }
    },
    {
      "cell_type": "code",
      "source": [
        "### PROGRAM CONFIGURATIONS\n",
        "\n",
        "# Mode: Choose most/average/least values. Only use 'min', 'max' or 'avg'\n",
        "mode = 'max'\n",
        "\n",
        "### END PROGRAM CONFIGURATIONS\n",
        "import pandas as pd\n",
        "from pandas.core.algorithms import value_counts\n",
        "from IPython.core.interactiveshell import InteractiveShell\n",
        "InteractiveShell.ast_node_interactivity = 'all'\n",
        "\n",
        "min_le_ls, min_satisfaction_ls, avg_le_ls, avg_satisfaction_ls, max_le_ls, max_satisfaction_ls = [], [], [], [], [], []\n",
        "departments = ['sales', 'technical', 'support', 'IT', 'hr', 'accounting', 'marketing', 'product_mng' ,'RandD', 'management']\n",
        "\n",
        "for i in departments:\n",
        "  df = pd.read_csv(\"/content/drive/MyDrive/dataset/dataset_csv/dataset-hr/HR_comma_sep.csv\")\n",
        "  df = df.loc[df['sales'] == i]\n",
        "\n",
        "  le = df['last_evaluation'].value_counts().to_frame()\n",
        "  satisfaction = df['satisfaction_level'].value_counts().to_frame()\n",
        "\n",
        "  le = le['last_evaluation'].to_list()\n",
        "  satisfaction = satisfaction['satisfaction_level'].to_list()\n",
        "\n",
        "  min_le = min([int(i) for i in le])\n",
        "  avg_le = mean([int(i) for i in le])\n",
        "  max_le = max([int(i) for i in le])\n",
        "  min_satisfaction = min([int(i) for i in satisfaction])\n",
        "  avg_satisfaction = mean([int(i) for i in satisfaction])\n",
        "  max_satisfaction = max([int(i) for i in satisfaction])\n",
        "\n",
        "  min_le_ls.append(min_le)\n",
        "  min_satisfaction_ls.append(min_satisfaction)\n",
        "  avg_le_ls.append(avg_le)\n",
        "  avg_satisfaction_ls.append(avg_satisfaction)\n",
        "  max_le_ls.append(max_le)\n",
        "  max_satisfaction_ls.append(max_satisfaction)\n",
        "\n",
        "df = pd.DataFrame({'department': departments, 'min_le': min_le_ls, \\\n",
        "                   'min_sat': min_satisfaction_ls, 'avg_le': avg_le_ls, \\\n",
        "                   'avg_sat': avg_satisfaction_ls, 'max_le': max_le_ls, \\\n",
        "                   'max_sat': max_satisfaction_ls}, index=list(range(1,11)))\n",
        "\n",
        "print(f'mode = {mode}\\nle = last_evaluation, sat = satisfaction\\n\\n{df}')"
      ],
      "metadata": {
        "colab": {
          "base_uri": "https://localhost:8080/"
        },
        "id": "K4twMpTtyns0",
        "outputId": "874e9827-dfa5-451b-fdbb-0976f6e6655a"
      },
      "execution_count": null,
      "outputs": [
        {
          "output_type": "stream",
          "name": "stdout",
          "text": [
            "mode = max\n",
            "le = last_evaluation, sat = satisfaction\n",
            "\n",
            "     department  min_le  min_sat     avg_le    avg_sat  max_le  max_sat\n",
            "1         sales       8        3  63.692308  45.000000     114       92\n",
            "2     technical       3        3  41.846154  29.565217      69       79\n",
            "3       support       3        2  34.292308  24.228261      68       53\n",
            "4            IT       1        1  19.171875  13.633333      39       35\n",
            "5            hr       1        1  11.730159   8.211111      26       19\n",
            "6    accounting       1        1  11.984375   8.522222      27       27\n",
            "7     marketing       1        1  13.406250   9.533333      31       25\n",
            "8   product_mng       2        1  13.876923  10.250000      30       24\n",
            "9         RandD       1        1  12.107692   8.744444      28       19\n",
            "10   management       1        1  10.161290   7.325581      20       26\n"
          ]
        }
      ]
    },
    {
      "cell_type": "markdown",
      "source": [
        "6. Under each department, what is the count on work accidents (work_accident) and promotion for the last 5 years (promotion_last_5years) for both left and not left. Sort the value by sales."
      ],
      "metadata": {
        "id": "0c59A8fECkrb"
      }
    },
    {
      "cell_type": "code",
      "source": [
        "import pandas as pd\n",
        "from pandas.core.algorithms import value_counts\n",
        "from IPython.core.interactiveshell import InteractiveShell\n",
        "InteractiveShell.ast_node_interactivity = 'all'\n",
        "\n",
        "departments = ['sales', 'technical', 'support', 'IT', 'hr', 'accounting', 'marketing', 'product_mng' ,'RandD', 'management']\n",
        "accident_ls, promotion_ls = [], []\n",
        "\n",
        "for i in departments:\n",
        "  df = pd.read_csv(\"/content/drive/MyDrive/dataset/dataset_csv/dataset-hr/HR_comma_sep.csv\")\n",
        "  df = df.loc[df['sales'] == i]\n",
        "\n",
        "  work_accidents = df['Work_accident'].value_counts().to_frame()\n",
        "  promotions = df['promotion_last_5years'].value_counts().to_frame()\n",
        "\n",
        "  work_accidents = work_accidents['Work_accident'].to_list()[0]\n",
        "  promotions = promotions['promotion_last_5years'].to_list()[0]\n",
        "\n",
        "  accident_ls.append(work_accidents)\n",
        "  promotion_ls.append(promotions)\n",
        "\n",
        "df = pd.DataFrame({'department':departments, 'work_accidents':accident_ls, 'promotions_last_5yrs':promotion_ls})\n",
        "df = df.sort_values(by=['work_accidents', 'promotions_last_5yrs']).to_dict()\n",
        "\n",
        "data = {}\n",
        "\n",
        "for v in df.items():\n",
        "  i, j = v[0], v[1]\n",
        "  j_val = list(reversed(list(j.values())))\n",
        "  j_out = dict(zip(list(range(1,11)), j_val))\n",
        "  data[i] = j_out\n",
        "\n",
        "df = pd.DataFrame(data)\n",
        "print(df)"
      ],
      "metadata": {
        "colab": {
          "base_uri": "https://localhost:8080/"
        },
        "id": "psD4cF7LCo_l",
        "outputId": "c695df4c-fdd3-445d-b910-2fe645dec003"
      },
      "execution_count": null,
      "outputs": [
        {
          "output_type": "stream",
          "name": "stdout",
          "text": [
            "     department  work_accidents  promotions_last_5yrs\n",
            "1         sales            3553                  4040\n",
            "2     technical            2339                  2692\n",
            "3       support            1884                  2209\n",
            "4            IT            1063                  1224\n",
            "5   product_mng             770                   902\n",
            "6     marketing             720                   815\n",
            "7    accounting             671                   753\n",
            "8         RandD             653                   760\n",
            "9            hr             650                   724\n",
            "10   management             527                   561\n"
          ]
        }
      ]
    },
    {
      "cell_type": "markdown",
      "source": [
        "### Task 7\n",
        "7. Answer tasks 3-6 combined"
      ],
      "metadata": {
        "id": "LOdHxWMvWxnd"
      }
    },
    {
      "cell_type": "code",
      "source": [
        "import pandas as pd\n",
        "from statistics import mean\n",
        "from pandas.core.algorithms import value_counts\n",
        "from IPython.core.interactiveshell import InteractiveShell\n",
        "InteractiveShell.ast_node_interactivity = 'all'\n",
        "\n",
        "min_le_ls, min_satisfaction_ls, avg_le_ls, avg_satisfaction_ls, max_le_ls, max_satisfaction_ls = [], [], [], [], [], []\n",
        "accident_ls, promotion_ls, min_years_ls, avg_years_ls, max_years_ls = [], [], [], [], []\n",
        "min_monthly_hrs_ls, avg_monthly_hrs_ls, max_monthly_hrs_ls = [], [], []\n",
        "\n",
        "departments = ['sales', 'technical', 'support', 'IT', 'hr', 'accounting', 'marketing', 'product_mng' ,'RandD', 'management']\n",
        "\n",
        "for i in departments:\n",
        "  df = pd.read_csv(\"/content/drive/MyDrive/dataset/dataset_csv/dataset-hr/HR_comma_sep.csv\")\n",
        "  df = df.loc[df['sales'] == i]\n",
        "\n",
        "  le = df['last_evaluation'].value_counts().to_frame()\n",
        "  satisfaction = df['satisfaction_level'].value_counts().to_frame()\n",
        "\n",
        "  le = le['last_evaluation'].to_list()\n",
        "  satisfaction = satisfaction['satisfaction_level'].to_list()\n",
        "\n",
        "  min_le = min([int(i) for i in le])\n",
        "  avg_le = mean([int(i) for i in le])\n",
        "  max_le = max([int(i) for i in le])\n",
        "  min_satisfaction = min([int(i) for i in satisfaction])\n",
        "  avg_satisfaction = mean([int(i) for i in satisfaction])\n",
        "  max_satisfaction = max([int(i) for i in satisfaction])\n",
        "\n",
        "  min_le_ls.append(min_le)\n",
        "  avg_le_ls.append(avg_le)\n",
        "  max_le_ls.append(max_le)\n",
        "  min_satisfaction_ls.append(min_satisfaction)\n",
        "  avg_satisfaction_ls.append(avg_satisfaction)\n",
        "  max_satisfaction_ls.append(max_satisfaction)\n",
        "\n",
        "  years = df['average_montly_hours'].value_counts().to_frame() # swapped both due to some error in data\n",
        "  monthly_hrs = df['time_spend_company'].value_counts().to_frame()\n",
        "\n",
        "  years = years['average_montly_hours'].to_list()\n",
        "  monthly_hrs = monthly_hrs['time_spend_company'].to_list()\n",
        "\n",
        "  min_years = min([int(i) for i in years])\n",
        "  avg_years = mean([int(i) for i in years])\n",
        "  max_years = max([int(i) for i in years])\n",
        "  min_monthly_hrs = min([int(i) for i in monthly_hrs])\n",
        "  avg_monthly_hrs = mean([int(i) for i in monthly_hrs])\n",
        "  max_monthly_hrs = max([int(i) for i in monthly_hrs])\n",
        "\n",
        "  min_years_ls.append(min_years)\n",
        "  avg_years_ls.append(avg_years)\n",
        "  max_years_ls.append(max_years)\n",
        "  min_monthly_hrs_ls.append(min_monthly_hrs)\n",
        "  avg_monthly_hrs_ls.append(avg_monthly_hrs)\n",
        "  max_monthly_hrs_ls.append(max_monthly_hrs)\n",
        "\n",
        "  work_accidents = df['Work_accident'].value_counts().to_frame()\n",
        "  promotions = df['promotion_last_5years'].value_counts().to_frame()\n",
        "\n",
        "  work_accidents = work_accidents['Work_accident'].to_list()[0]\n",
        "  promotions = promotions['promotion_last_5years'].to_list()[0]\n",
        "\n",
        "  accident_ls.append(work_accidents)\n",
        "  promotion_ls.append(promotions)\n",
        "\n",
        "data = {'department': departments, 'min_le': min_le_ls, \\\n",
        "        'min_sat': min_satisfaction_ls, 'avg_le': avg_le_ls, \\\n",
        "         'avg_sat': avg_satisfaction_ls, 'max_le': max_le_ls, \\\n",
        "         'max_sat': max_satisfaction_ls, 'department': departments, 'min_years': min_years_ls, \\\n",
        "         'min_monthly_hrs': min_monthly_hrs_ls, 'avg_years': avg_years_ls, \\\n",
        "         'avg_monthly_hrs': avg_monthly_hrs_ls, 'max_years': max_years_ls, \\\n",
        "         'max_monthly_hrs': max_monthly_hrs_ls, 'work_accidents': accident_ls, \\\n",
        "         'promotion_last_5yrs': promotion_ls}\n",
        "\n",
        "df = pd.DataFrame.from_dict(data, orient='index').swapaxes('index', 'columns')\n",
        "\n",
        "print(df)"
      ],
      "metadata": {
        "colab": {
          "base_uri": "https://localhost:8080/"
        },
        "id": "DylBmELZXSoz",
        "outputId": "a776e70c-5005-47d0-b64b-e11d813b551b"
      },
      "execution_count": null,
      "outputs": [
        {
          "output_type": "stream",
          "name": "stdout",
          "text": [
            "mode = max\n",
            "\n",
            "     department min_le min_sat     avg_le    avg_sat max_le max_sat min_years  \\\n",
            "0        sales      8       3  63.692308         45    114      92         1   \n",
            "1    technical      3       3  41.846154  29.565217     69      79         1   \n",
            "2      support      3       2  34.292308  24.228261     68      53         1   \n",
            "3           IT      1       1  19.171875  13.633333     39      35         1   \n",
            "4           hr      1       1  11.730159   8.211111     26      19         1   \n",
            "5   accounting      1       1  11.984375   8.522222     27      27         1   \n",
            "6    marketing      1       1   13.40625   9.533333     31      25         1   \n",
            "7  product_mng      2       1  13.876923      10.25     30      24         1   \n",
            "8        RandD      1       1  12.107692   8.744444     28      19         1   \n",
            "9   management      1       1   10.16129   7.325581     20      26         1   \n",
            "\n",
            "  min_monthly_hrs  avg_years avg_monthly_hrs max_years max_monthly_hrs  \\\n",
            "0              48  19.345794           517.5        67            1768   \n",
            "1               2  13.014354             340        35            1161   \n",
            "2              12  10.926471      318.428571        29             974   \n",
            "3              10   6.292308         153.375        22             523   \n",
            "4               6   4.198864      123.166667        16             333   \n",
            "5              10   4.308989      109.571429        13             335   \n",
            "6              10   4.740331          107.25        14             382   \n",
            "7               8   4.956044          112.75        17             386   \n",
            "8              10   4.497143      131.166667        17             341   \n",
            "9              20   3.865031           78.75        11             240   \n",
            "\n",
            "  work_accidents promotion_last_5yrs  \n",
            "0           3553                4040  \n",
            "1           2339                2692  \n",
            "2           1884                2209  \n",
            "3           1063                1224  \n",
            "4            650                 724  \n",
            "5            671                 753  \n",
            "6            720                 815  \n",
            "7            770                 902  \n",
            "8            653                 760  \n",
            "9            527                 561  \n"
          ]
        }
      ]
    },
    {
      "cell_type": "markdown",
      "source": [
        "### Task 8\n",
        "8. Using output from task 7, plot a grouped bar chart with seaborn. There must be two bars, one bar representing left and another for not left. This plot is for each unique department values in column “sales.”"
      ],
      "metadata": {
        "id": "yPHsbe6kiBCv"
      }
    },
    {
      "cell_type": "code",
      "source": [
        "import pandas as pd\n",
        "import numpy as np\n",
        "import matplotlib.pyplot as plt\n",
        "import seaborn as sns\n",
        "from statistics import mean\n",
        "from pandas.core.algorithms import value_counts\n",
        "from IPython.core.interactiveshell import InteractiveShell\n",
        "InteractiveShell.ast_node_interactivity = 'all'\n",
        "\n",
        "df = pd.read_csv(\"/content/drive/MyDrive/dataset/dataset_csv/dataset-hr/HR_comma_sep.csv\")\n",
        "\n",
        "out = df.groupby(['left', 'sales']) \\\n",
        "['time_spend_company', 'average_montly_hours'].mean().reset_index()\n",
        "\n",
        "plt.figure(figsize=(12, 10))\n",
        "sns.barplot(x='sales', y='time_spend_company', hue='left', data=out)\n",
        "plt.ylabel('avg_time_spend_company', size=16)\n",
        "plt.xlabel('sales', size=16)\n",
        "plt.title('Grouped Barchart', size=18)"
      ],
      "metadata": {
        "colab": {
          "base_uri": "https://localhost:8080/",
          "height": 686
        },
        "id": "3N9kmHCSiSEo",
        "outputId": "a5636db3-78be-4c83-8870-ee30bee5ebc7"
      },
      "execution_count": null,
      "outputs": [
        {
          "output_type": "stream",
          "name": "stderr",
          "text": [
            "/usr/local/lib/python3.7/dist-packages/ipykernel_launcher.py:13: FutureWarning: Indexing with multiple keys (implicitly converted to a tuple of keys) will be deprecated, use a list instead.\n",
            "  del sys.path[0]\n"
          ]
        },
        {
          "output_type": "execute_result",
          "data": {
            "text/plain": [
              "<Figure size 864x720 with 0 Axes>"
            ]
          },
          "metadata": {},
          "execution_count": 11
        },
        {
          "output_type": "execute_result",
          "data": {
            "text/plain": [
              "<matplotlib.axes._subplots.AxesSubplot at 0x7f31361e9690>"
            ]
          },
          "metadata": {},
          "execution_count": 11
        },
        {
          "output_type": "execute_result",
          "data": {
            "text/plain": [
              "Text(0, 0.5, 'avg_time_spend_company')"
            ]
          },
          "metadata": {},
          "execution_count": 11
        },
        {
          "output_type": "execute_result",
          "data": {
            "text/plain": [
              "Text(0.5, 0, 'sales')"
            ]
          },
          "metadata": {},
          "execution_count": 11
        },
        {
          "output_type": "execute_result",
          "data": {
            "text/plain": [
              "Text(0.5, 1.0, 'Grouped Barchart')"
            ]
          },
          "metadata": {},
          "execution_count": 11
        },
        {
          "output_type": "display_data",
          "data": {
            "text/plain": [
              "<Figure size 864x720 with 1 Axes>"
            ],
            "image/png": "[encoded data removed]"
          },
          "metadata": {
            "needs_background": "light"
          }
        }
      ]
    },
    {
      "cell_type": "markdown",
      "source": [
        "\n",
        "\n",
        "---\n",
        "\n",
        "\n",
        "# **Tips**\n",
        "Some tips that will get you started (and help you when you're confused)"
      ],
      "metadata": {
        "id": "VpThHjSaByCE"
      }
    },
    {
      "cell_type": "markdown",
      "source": [
        "##Weekly meeting tips\n",
        "\n",
        "\n",
        "1.   These meeting are recorded! Keep it short and sweet!\n",
        "2.   Describe your what you achieved in code in 5-10 minutes.\n",
        "3.   What is blocking you? Any blockers? Explain it in a weekly meeting.\n",
        "\n"
      ],
      "metadata": {
        "id": "HMJtCqVg4pnf"
      }
    },
    {
      "cell_type": "markdown",
      "source": [
        "## Confused? Here's the steps to finish the project:\n",
        "\n",
        "\n",
        "1. Read the readme document\n",
        "2. Watch pair coding videos in order by date\n",
        "3. Code with the videos\n",
        "4. If you have any problems, describe it in a weekly meeting and it will be fixed\n",
        "5. When done, push to Git/GitHub\n",
        "6. Also, make a presentation about what you learned\n",
        "7. Once completed with the whole section, do the final report"
      ],
      "metadata": {
        "id": "ERYkyTXF3YMU"
      }
    },
    {
      "cell_type": "markdown",
      "source": [
        "**Also, make sure to change the compute engine when switching miniprojects.**\n",
        "\n",
        "**That's it!**\n",
        "\n",
        "### **If you are experiencing issues with setup scripts, add the Zoom-Recordings-Common folder after the MyDrive folder.**"
      ],
      "metadata": {
        "id": "tNkKOqoD_pKz"
      }
    }
  ]
}