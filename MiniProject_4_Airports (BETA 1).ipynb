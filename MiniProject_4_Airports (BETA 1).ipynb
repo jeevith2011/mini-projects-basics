{
  "nbformat": 4,
  "nbformat_minor": 0,
  "metadata": {
    "colab": {
      "provenance": [],
      "collapsed_sections": [
        "48jqGW36YEUl",
        "PRrYm1qyYW_g",
        "9-k7ImTBZZlw",
        "hG1XBMTV07NW",
        "37l_joeDQKcV",
        "VpThHjSaByCE",
        "HMJtCqVg4pnf",
        "tNkKOqoD_pKz"
      ],
      "include_colab_link": true
    },
    "kernelspec": {
      "name": "python3",
      "display_name": "Python 3"
    },
    "language_info": {
      "name": "python"
    }
  },
  "cells": [
    {
      "cell_type": "markdown",
      "metadata": {
        "id": "view-in-github",
        "colab_type": "text"
      },
      "source": [
        "<a href=\"https://colab.research.google.com/github/jeevith2011/mini-projects-basics/blob/main/MiniProject_4_Airports%20(BETA%201).ipynb\" target=\"_parent\"><img src=\"https://colab.research.google.com/assets/colab-badge.svg\" alt=\"Open In Colab\"/></a>"
      ]
    },
    {
      "cell_type": "markdown",
      "source": [
        "\n",
        "\n",
        "---\n",
        "\n",
        "\n",
        "# **MiniProject 4**\n",
        "Airports and Airlines (11 tasks divided into 2 parts)"
      ],
      "metadata": {
        "id": "iSmu1m2LXb6B"
      }
    },
    {
      "cell_type": "markdown",
      "source": [
        "## **PART 1 (4 Tasks)**"
      ],
      "metadata": {
        "id": "48jqGW36YEUl"
      }
    },
    {
      "cell_type": "markdown",
      "source": [
        "### Setup script (PART 1)"
      ],
      "metadata": {
        "id": "PRrYm1qyYW_g"
      }
    },
    {
      "cell_type": "code",
      "source": [
        "from google.colab import drive\n",
        "# NOTE: this will pop up asking for google login permission\n",
        "drive.mount('/content/drive')\n",
        "# linux command to list the files under linux running\n",
        "#Colab Jupyter notebook (prints dir/files/links in your Drive)\n",
        "\n",
        "# Airport ID, Name of airport, City, Country, IATA, ICAO, Latitude, Longitude, Altitude, Timezone, DST, TZ Database Timezone, Type, Source\n",
        "# See https://openflights.org/data.php for help\n",
        "\n",
        "!ls -ltr /content/drive/MyDrive/ | grep *.csv\n",
        "!ls -ltr /content/drive/MyDrive/Zoom-Recordings-Common/dataset/dataset_csv/\n",
        "!ls -ltr /content/drive/MyDrive/Zoom-Recordings-Common/dataset/dataset_csv/dataset-airports | grep dataset\n",
        "!ls -ltr /content/drive/MyDrive/Zoom-Recordings-Common/dataset/dataset_csv/dataset-airports/airports.dat.txt | grep dataset"
      ],
      "metadata": {
        "colab": {
          "base_uri": "https://localhost:8080/"
        },
        "id": "8aRjoHd7YT5a",
        "outputId": "1d315b19-ea5e-48dc-99d9-c15ed2bf4850"
      },
      "execution_count": null,
      "outputs": [
        {
          "output_type": "stream",
          "name": "stdout",
          "text": [
            "Mounted at /content/drive\n",
            "ls: /content/drive/MyDrive/Zoom-Recordings-Common: No such file or directory\n",
            "total 52\n",
            "dr-x------ 2 root root 4096 Feb 26  2022 dataset-titanic\n",
            "dr-x------ 2 root root 4096 Feb 26  2022 dataset-powerlifting-csv\n",
            "dr-x------ 2 root root 4096 Feb 26  2022 dataset_open_crime_uk\n",
            "dr-x------ 2 root root 4096 Feb 26  2022 dataset-google-scholar\n",
            "dr-x------ 2 root root 4096 Feb 26  2022 dataset_ebola\n",
            "dr-x------ 2 root root 4096 Feb 26  2022 dataset-domestic-flights-from-1990-to-2009\n",
            "dr-x------ 2 root root 4096 Feb 26  2022 dataset-covid-2\n",
            "dr-x------ 2 root root 4096 Feb 26  2022 dataset-covid\n",
            "dr-x------ 2 root root 4096 Feb 26  2022 dataset-airports\n",
            "dr-x------ 2 root root 4096 Mar  5  2022 dataset-museum-artifacts\n",
            "dr-x------ 2 root root 4096 Mar  5  2022 dataset-world-economy-worldbank\n",
            "dr-x------ 2 root root 4096 Jun 21  2023 dataset-hr\n",
            "dr-x------ 2 root root 4096 Nov 11 19:19 dataset-forest-fire\n",
            "-r-------- 1 root root 1127225 Feb 19  2022 /content/drive/MyDrive/Zoom-Recordings-Common/dataset/dataset_csv/dataset-airports/airports.dat.txt\n"
          ]
        }
      ]
    },
    {
      "cell_type": "markdown",
      "source": [
        "### **Task 1: Top 20 highest altitude airports in the world.**\n",
        "Choose only “type” with “airport” \\\n",
        "Output: airport_id, name, city, country, altitude, rank*"
      ],
      "metadata": {
        "id": "9-k7ImTBZZlw"
      }
    },
    {
      "cell_type": "code",
      "source": [
        "import pandas as pd\n",
        "from pandas.core.algorithms import value_counts\n",
        "from IPython.core.interactiveshell import InteractiveShell\n",
        "InteractiveShell.ast_node_interactivity = 'all'\n",
        "df = pd.read_csv(\"/content/drive/MyDrive/Zoom-Recordings-Common/dataset/dataset_csv/dataset-airports/airports.dat.txt\")\n",
        "df.columns = ['Airport ID', 'Name', 'City', 'Country', 'IATA', 'ICAO', \\\n",
        "              'Latitude', 'Longitude', 'Altitude', 'Timezone', 'DST',  \\\n",
        "              'TZ Database Timezone', 'Type', 'Source']\n",
        "# See https://openflights.org/data.php for help\n",
        "\n",
        "df = df.drop(df.columns[[4, 5, 6, 7, 9, 10, 11, 12, 13]], axis=1)\n",
        "df = df.sort_values(by=['Altitude'])\n",
        "rankings = df.tail(20)\n",
        "rankings = rankings.iloc[::-1] # Reverses dataframe\n",
        "rankings.index = list(range(1, 21))\n",
        "print(rankings)"
      ],
      "metadata": {
        "id": "SaSl4n5iZuDX"
      },
      "execution_count": null,
      "outputs": []
    },
    {
      "cell_type": "markdown",
      "source": [
        "Top 20 countries that have the highest total # of airports. /\n",
        "Output: /\n",
        "country, total_airports, rank"
      ],
      "metadata": {
        "id": "uAH3-Zyn5GQO"
      }
    },
    {
      "cell_type": "markdown",
      "source": [
        "**Task 2: Top 20 countries that have the highest total # of airports.** \\\n",
        "Output: \\\n",
        "country, total_airports, rank\n"
      ],
      "metadata": {
        "id": "rxyXzkZj4jOs"
      }
    },
    {
      "cell_type": "code",
      "source": [
        "import pandas as pd\n",
        "from pandas.core.algorithms import value_counts\n",
        "from IPython.core.interactiveshell import InteractiveShell\n",
        "InteractiveShell.ast_node_interactivity = 'all'\n",
        "df = pd.read_csv(\"/content/drive/MyDrive/Zoom-Recordings-Common/dataset/dataset_csv/dataset-airports/airports.dat.txt\")\n",
        "df.columns = ['Airport ID', 'Name', 'City', 'Country', 'IATA', 'ICAO', \\\n",
        "              'Latitude', 'Longitude', 'Altitude', 'Timezone', 'DST',  \\\n",
        "              'TZ Database Timezone', 'Type', 'Source']\n",
        "# See https://openflights.org/data.php for help\n",
        "\n",
        "df = df['Country'].value_counts().to_frame()\n",
        "df = df.head(20)\n",
        "df['Rank'] = list(range(1, 21))\n",
        "print(df)"
      ],
      "metadata": {
        "id": "2vsZnXPj5PBr"
      },
      "execution_count": null,
      "outputs": []
    },
    {
      "cell_type": "markdown",
      "source": [
        "**Task 3: Top 20 cities that have the highest total # of airports.**  \\\n",
        "*(Two cities from different countries can have the same name, and you have to make sure the numbers are not messed up due to that!)* \\\n",
        "Output: \\\n",
        "city, total_airports, rank\n"
      ],
      "metadata": {
        "id": "p02H_5-D7Wpy"
      }
    },
    {
      "cell_type": "code",
      "source": [
        "import pandas as pd\n",
        "from pandas.core.algorithms import value_counts\n",
        "from IPython.core.interactiveshell import InteractiveShell\n",
        "InteractiveShell.ast_node_interactivity = 'all'\n",
        "df = pd.read_csv(\"/content/drive/MyDrive/Zoom-Recordings-Common/dataset/dataset_csv/dataset-airports/airports.dat.txt\")\n",
        "df.columns = ['Airport ID', 'Name', 'City', 'Country', 'IATA', 'ICAO', \\\n",
        "              'Latitude', 'Longitude', 'Altitude', 'Timezone', 'DST',  \\\n",
        "              'TZ Database Timezone', 'Type', 'Source']\n",
        "# See https://openflights.org/data.php for help\n",
        "\n",
        "df = df[['City', 'Country']].value_counts().to_frame()\n",
        "df = df.head(20)\n",
        "df['Rank'] = list(range(1, 21))\n",
        "print(df)"
      ],
      "metadata": {
        "id": "4twe3hzj7kxZ"
      },
      "execution_count": null,
      "outputs": []
    },
    {
      "cell_type": "markdown",
      "source": [
        "**Task 4: Pair of cities that have the same name, but from two different countries.** \\\n",
        "Output: \\\n",
        "city_a, country_a, city_b, country_b"
      ],
      "metadata": {
        "id": "2WSkfBqn9b72"
      }
    },
    {
      "cell_type": "code",
      "source": [
        "import pandas as pd\n",
        "from pandas.core.algorithms import value_counts\n",
        "from IPython.core.interactiveshell import InteractiveShell\n",
        "InteractiveShell.ast_node_interactivity = 'all'\n",
        "df = pd.read_csv(\"/content/drive/MyDrive/Zoom-Recordings-Common/dataset/dataset_csv/dataset-airports/airports.dat.txt\")\n",
        "df.columns = ['Airport ID', 'Name', 'City', 'Country', 'IATA', 'ICAO', \\\n",
        "              'Latitude', 'Longitude', 'Altitude', 'Timezone', 'DST',  \\\n",
        "              'TZ Database Timezone', 'Type', 'Source']\n",
        "# See https://openflights.org/data.php for help\n",
        "\n",
        "df = df.drop(df.columns[[0, 1, 4, 5, 6, 7, 8, 9, 10, 11, 12, 13]], axis=1)\n",
        "df = df.sort_values('City')\n",
        "df = df.reset_index()\n",
        "df_new = df.merge(df,on='City',suffixes =['','_opponent']).query('Country!=Country_opponent')\n",
        "\n",
        "# drop NaN if you would like\n",
        "\n",
        "print(df_new)"
      ],
      "metadata": {
        "colab": {
          "base_uri": "https://localhost:8080/"
        },
        "id": "mhlpTlxj9fjY",
        "outputId": "329e30e2-9288-4131-c5b9-43df0d8118cf"
      },
      "execution_count": null,
      "outputs": [
        {
          "output_type": "stream",
          "name": "stdout",
          "text": [
            "       index      City         Country  index_opponent Country_opponent\n",
            "27      3571  Aberdeen   United States             525   United Kingdom\n",
            "29       525  Aberdeen  United Kingdom            3571    United States\n",
            "31       525  Aberdeen  United Kingdom            4405    United States\n",
            "33      4405  Aberdeen   United States             525   United Kingdom\n",
            "170     3663    Albany   United States            4866        Australia\n",
            "...      ...       ...             ...             ...              ...\n",
            "12177   7679       NaN           China            7278        Australia\n",
            "12178   7679       NaN           China            7279        Australia\n",
            "12179   7679       NaN           China            7282        Australia\n",
            "12180   7679       NaN           China            7287         Mongolia\n",
            "12181   7679       NaN           China            7640          Bahamas\n",
            "\n",
            "[2048 rows x 5 columns]\n"
          ]
        }
      ]
    },
    {
      "cell_type": "markdown",
      "source": [
        "## **PART 2 (7 tasks)**"
      ],
      "metadata": {
        "id": "s7CA_0Wo1FDf"
      }
    },
    {
      "cell_type": "markdown",
      "source": [
        "### Setup script for part 2"
      ],
      "metadata": {
        "id": "a7484JQe2KzE"
      }
    },
    {
      "cell_type": "code",
      "source": [
        "from google.colab import drive\n",
        "# NOTE: this will pop up asking for google login permission\n",
        "drive.mount('/content/drive')\n",
        "# linux command to list the files under linux running\n",
        "#Colab Jupyter notebook (prints dir/files/links in your Drive)\n",
        "\n",
        "# \"Origin_airport\",\"Destination_airport\",\"Origin_city\",\"Destination_city\",\"Passengers\",\"Seats\",\"Flights\",\"Distance\",\"Fly_date\",\"Origin_population\",\"Destination_population\",\"Org_airport_lat\",\"Org_airport_long\",\"Dest_airport_lat\",\"Dest_airport_long\"\n",
        "\n",
        "!ls -ltr /content/drive/MyDrive/ | grep *.csv\n",
        "!ls -ltr /content/drive/MyDrive/Zoom-Recordings-Common/dataset/dataset_csv/\n",
        "!ls -ltr /content/drive/MyDrive/Zoom-Recordings-Common/dataset/dataset_csv/dataset-airports | grep dataset\n",
        "!ls -ltr /content/drive/MyDrive/Zoom-Recordings-Common/dataset/dataset_csv/dataset-airports/Airports2.csv | grep dataset"
      ],
      "metadata": {
        "colab": {
          "base_uri": "https://localhost:8080/"
        },
        "id": "6nZSahRn2Jou",
        "outputId": "2d776b57-1e9e-48fb-e0ea-851fc1e74767"
      },
      "execution_count": 3,
      "outputs": [
        {
          "output_type": "stream",
          "name": "stdout",
          "text": [
            "Drive already mounted at /content/drive; to attempt to forcibly remount, call drive.mount(\"/content/drive\", force_remount=True).\n",
            "total 52\n",
            "dr-x------ 2 root root 4096 Feb 26  2022 dataset-titanic\n",
            "dr-x------ 2 root root 4096 Feb 26  2022 dataset-powerlifting-csv\n",
            "dr-x------ 2 root root 4096 Feb 26  2022 dataset_open_crime_uk\n",
            "dr-x------ 2 root root 4096 Feb 26  2022 dataset-google-scholar\n",
            "dr-x------ 2 root root 4096 Feb 26  2022 dataset_ebola\n",
            "dr-x------ 2 root root 4096 Feb 26  2022 dataset-domestic-flights-from-1990-to-2009\n",
            "dr-x------ 2 root root 4096 Feb 26  2022 dataset-covid-2\n",
            "dr-x------ 2 root root 4096 Feb 26  2022 dataset-covid\n",
            "dr-x------ 2 root root 4096 Feb 26  2022 dataset-airports\n",
            "dr-x------ 2 root root 4096 Mar  5  2022 dataset-museum-artifacts\n",
            "dr-x------ 2 root root 4096 Mar  5  2022 dataset-world-economy-worldbank\n",
            "dr-x------ 2 root root 4096 Jun 21  2023 dataset-hr\n",
            "dr-x------ 2 root root 4096 Nov 11 19:19 dataset-forest-fire\n",
            "-r-------- 1 root root 533742453 Sep 27  2019 /content/drive/MyDrive/Zoom-Recordings-Common/dataset/dataset_csv/dataset-airports/Airports2.csv\n"
          ]
        }
      ]
    },
    {
      "cell_type": "markdown",
      "source": [
        "### Main Project"
      ],
      "metadata": {
        "id": "-SC8DTd3TjVF"
      }
    },
    {
      "cell_type": "markdown",
      "source": [
        "#### TASK 1\n",
        "In the year 2009, print Top 10 cities in the USA that received maximum # inbound flights. \\\n",
        "Output:\n",
        "city,total_inbound_flights,rank\n"
      ],
      "metadata": {
        "id": "hG1XBMTV07NW"
      }
    },
    {
      "cell_type": "code",
      "source": [
        "import pandas as pd\n",
        "from pandas.core.algorithms import value_counts\n",
        "from IPython.core.interactiveshell import InteractiveShell\n",
        "InteractiveShell.ast_node_interactivity = 'all'\n",
        "df = pd.read_csv(\"/content/drive/MyDrive/Zoom-Recordings-Common/dataset/dataset_csv/dataset-airports/Airports2.csv\")\n",
        "\n",
        "df.columns = [\"Origin_airport\",\"Destination_airport\",\"Origin_city\",\"Destination_city\",\"Passengers\",\"Seats\",\"Flights\", \\\n",
        "              \"Distance\",\"Fly_date\",\"Origin_population\",\"Destination_population\",\"Org_airport_lat\", \\\n",
        "              \"Org_airport_long\",\"Dest_airport_lat\",\"Dest_airport_long\"]\n",
        "\n",
        "df = df.loc[df['Fly_date'].str.contains(\"2009\")] # results must be in 2009\n",
        "\n",
        "df = df.drop(df.columns[[0, 1, 2, 4, 5, 7, 9, 10, 11, 12, 13, 14]], axis=1) # removing unnecessary columns\n",
        "df = df.groupby(\"Destination_city\").Flights.sum() # grouping all of the destination city things\n",
        "\n",
        "df = df.to_frame() # convert Series to DataFrame\n",
        "df = df.sort_values(by=['Flights'], ascending=False).head(10) # sort values by flight amount and select top 10\n",
        "\n",
        "df['Rank'] = range(1, 11) # add rank column\n",
        "\n",
        "print(df) # probably will take 20 secs to load"
      ],
      "metadata": {
        "id": "ydmhuUiJ03u4"
      },
      "execution_count": null,
      "outputs": []
    },
    {
      "cell_type": "markdown",
      "source": [
        "#### TASK 2\n",
        "Same thing as task 1, but it is OUTBOUND flights."
      ],
      "metadata": {
        "id": "37l_joeDQKcV"
      }
    },
    {
      "cell_type": "code",
      "source": [
        "import pandas as pd\n",
        "from pandas.core.algorithms import value_counts\n",
        "from IPython.core.interactiveshell import InteractiveShell\n",
        "InteractiveShell.ast_node_interactivity = 'all'\n",
        "df = pd.read_csv(\"/content/drive/MyDrive/Zoom-Recordings-Common/dataset/dataset_csv/dataset-airports/Airports2.csv\")\n",
        "\n",
        "df.columns = [\"Origin_airport\",\"Destination_airport\",\"Origin_city\",\"Destination_city\",\"Passengers\",\"Seats\",\"Flights\", \\\n",
        "              \"Distance\",\"Fly_date\",\"Origin_population\",\"Destination_population\",\"Org_airport_lat\", \\\n",
        "              \"Org_airport_long\",\"Dest_airport_lat\",\"Dest_airport_long\"]\n",
        "\n",
        "df = df.loc[df['Fly_date'].str.contains(\"2009\")] # results must be in 2009\n",
        "\n",
        "df = df.drop(df.columns[[0, 1, 3, 4, 5, 7, 9, 10, 11, 12, 13, 14]], axis=1) # removing unnecessary columns\n",
        "df = df.groupby(\"Origin_city\").Flights.sum() # grouping all of the origin city things\n",
        "\n",
        "df = df.to_frame() # convert Series to DataFrame\n",
        "df = df.sort_values(by=['Flights'], ascending=False).head(10) # sort values by flight amount and select top 10\n",
        "\n",
        "df['Rank'] = range(1, 11) # add rank column\n",
        "\n",
        "print(df) # probably will take 20 secs to load"
      ],
      "metadata": {
        "colab": {
          "base_uri": "https://localhost:8080/"
        },
        "id": "ozeNokjrQKyG",
        "outputId": "c053e97b-7048-4e22-93fd-adb207e67829"
      },
      "execution_count": 47,
      "outputs": [
        {
          "output_type": "stream",
          "name": "stdout",
          "text": [
            "                  Flights  Rank\n",
            "Origin_city                    \n",
            "Chicago, IL        416742     1\n",
            "Atlanta, GA        397112     2\n",
            "Dallas, TX         316739     3\n",
            "New York, NY       278351     4\n",
            "Houston, TX        249285     5\n",
            "Washington, DC     238958     6\n",
            "Charlotte, NC      200403     7\n",
            "Los Angeles, CA    193248     8\n",
            "Detroit, MI        184087     9\n",
            "Philadelphia, PA   181575    10\n"
          ]
        }
      ]
    },
    {
      "cell_type": "markdown",
      "source": [
        "#### TASK 3\n",
        "Same thing as task 1, but it is OUTBOUND flights from 1999-2009."
      ],
      "metadata": {
        "id": "kdM6d2U8Q1y9"
      }
    },
    {
      "cell_type": "code",
      "source": [
        "import pandas as pd\n",
        "from pandas.core.algorithms import value_counts\n",
        "from IPython.core.interactiveshell import InteractiveShell\n",
        "InteractiveShell.ast_node_interactivity = 'all'\n",
        "df = pd.read_csv(\"/content/drive/MyDrive/Zoom-Recordings-Common/dataset/dataset_csv/dataset-airports/Airports2.csv\")\n",
        "\n",
        "df.columns = [\"Origin_airport\",\"Destination_airport\",\"Origin_city\",\"Destination_city\",\"Passengers\",\"Seats\",\"Flights\", \\\n",
        "              \"Distance\",\"Fly_date\",\"Origin_population\",\"Destination_population\",\"Org_airport_lat\", \\\n",
        "              \"Org_airport_long\",\"Dest_airport_lat\",\"Dest_airport_long\"]\n",
        "\n",
        "df = df.drop(df.columns[[0, 1, 3, 4, 5, 7, 9, 10, 11, 12, 13, 14]], axis=1) # removing unnecessary columns\n",
        "\n",
        "# results must be in 1999-2009\n",
        "dates = ['1999', '2000', '2001', '2002', '2003', '2004', '2005', '2006', '2007', '2008', '2009']\n",
        "df = df.loc[df['Fly_date'].str.contains('|'.join(dates))]\n",
        "\n",
        "df = df.groupby(\"Origin_city\").Flights.sum() # grouping all of the origin city things\n",
        "\n",
        "df = df.to_frame() # convert Series to DataFrame\n",
        "df = df.sort_values(by=['Flights'], ascending=False).head(10) # sort values by flight amount and select top 10\n",
        "\n",
        "df['Rank'] = range(1, 11) # add rank column\n",
        "\n",
        "print(df) # probably will take 20 secs to load"
      ],
      "metadata": {
        "colab": {
          "base_uri": "https://localhost:8080/"
        },
        "id": "-pWlMpI4Q9xo",
        "outputId": "ccdf2f12-530c-4d0b-edc0-89eec8ea8042"
      },
      "execution_count": 54,
      "outputs": [
        {
          "output_type": "stream",
          "name": "stdout",
          "text": [
            "                 Flights  Rank\n",
            "Origin_city                   \n",
            "Chicago, IL      4997322     1\n",
            "Atlanta, GA      4177480     2\n",
            "Dallas, TX       3938032     3\n",
            "Houston, TX      2750620     4\n",
            "New York, NY     2750398     5\n",
            "Washington, DC   2432099     6\n",
            "Los Angeles, CA  2412159     7\n",
            "Detroit, MI      2215283     8\n",
            "Minneapolis, MN  2080578     9\n",
            "Phoenix, AZ      1983949    10\n"
          ]
        }
      ]
    },
    {
      "cell_type": "markdown",
      "source": [
        "\n",
        "\n",
        "---\n",
        "\n",
        "\n",
        "# **Tips**\n",
        "Some tips that will get you started (and help you when you're confused)"
      ],
      "metadata": {
        "id": "VpThHjSaByCE"
      }
    },
    {
      "cell_type": "markdown",
      "source": [
        "##Weekly meeting tips\n",
        "\n",
        "\n",
        "1.   These meeting are recorded! Keep it short and sweet!\n",
        "2.   Describe your what you achieved in code in 5-10 minutes.\n",
        "3.   What is blocking you? Any blockers? Explain it in a weekly meeting.\n",
        "\n"
      ],
      "metadata": {
        "id": "HMJtCqVg4pnf"
      }
    },
    {
      "cell_type": "markdown",
      "source": [
        "## Confused? Here's the steps to finish the project:\n",
        "\n",
        "\n",
        "1. Read the readme document\n",
        "2. Watch pair coding videos in order by date\n",
        "3. Code with the videos\n",
        "4. If you have any problems, describe it in a weekly meeting and it will be fixed\n",
        "5. When done, push to Git/GitHub\n",
        "6. Also, make a presentation about what you learned\n",
        "7. Once completed with the whole section, do the final report"
      ],
      "metadata": {
        "id": "ERYkyTXF3YMU"
      }
    },
    {
      "cell_type": "markdown",
      "source": [
        "**Also, make sure to change the compute engine when switching miniprojects.**\n",
        "\n",
        "**That's it!**\n",
        "\n",
        "### **If you are experiencing issues with setup scripts, add the Zoom-Recordings-Common folder after the MyDrive folder.**"
      ],
      "metadata": {
        "id": "tNkKOqoD_pKz"
      }
    }
  ]
}