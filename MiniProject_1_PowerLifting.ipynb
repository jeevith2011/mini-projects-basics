{
  "nbformat": 4,
  "nbformat_minor": 0,
  "metadata": {
    "colab": {
      "provenance": [],
      "authorship_tag": "ABX9TyNGZYQDwIzAN6Y3KVknU0vc",
      "include_colab_link": true
    },
    "kernelspec": {
      "name": "python3",
      "display_name": "Python 3"
    },
    "language_info": {
      "name": "python"
    }
  },
  "cells": [
    {
      "cell_type": "markdown",
      "metadata": {
        "id": "view-in-github",
        "colab_type": "text"
      },
      "source": [
        "<a href=\"https://colab.research.google.com/github/jeevith2011/mini-projects-basics/blob/main/Basics_1.ipynb\" target=\"_parent\"><img src=\"https://colab.research.google.com/assets/colab-badge.svg\" alt=\"Open In Colab\"/></a>"
      ]
    },
    {
      "cell_type": "markdown",
      "source": [
        "\n",
        "\n",
        "---\n",
        "\n",
        "\n",
        "# **MiniProject 1**\n",
        "Powerlifting USA (11 tasks)"
      ],
      "metadata": {
        "id": "3MPB__TMwmYB"
      }
    },
    {
      "cell_type": "markdown",
      "source": [
        "##Setup the files and stuff\n",
        "\n",
        "Setup (Will ask for Google credentials at first use)"
      ],
      "metadata": {
        "id": "OqoA6fE_slEa"
      }
    },
    {
      "cell_type": "code",
      "source": [
        "!pip install -U -q PyDrive\n",
        "from pydrive.auth import GoogleAuth\n",
        "from pydrive.drive import GoogleDrive\n",
        "from google.colab import auth\n",
        "from oauth2client.client import GoogleCredentials\n",
        "# Authenticate and create the PyDrive client.\n",
        "auth.authenticate_user()\n",
        "gauth = GoogleAuth()\n",
        "gauth.credentials = GoogleCredentials.get_application_default()\n",
        "drive = GoogleDrive(gauth)"
      ],
      "metadata": {
        "id": "MLhcKNWGt4Mu"
      },
      "execution_count": null,
      "outputs": []
    },
    {
      "cell_type": "markdown",
      "source": [
        "Snippet to start a task"
      ],
      "metadata": {
        "id": "w2ZB7IToEGIA"
      }
    },
    {
      "cell_type": "code",
      "source": [
        "from pandas.core.algorithms import value_counts\n",
        "import pandas as pd\n",
        "from matplotlib import pyplot as plt\n",
        "import seaborn as sns\n",
        "from IPython.core.interactiveshell import InteractiveShell\n",
        "InteractiveShell.ast_node_interactivity = 'all'\n",
        "id = \"1eY0SsAcV1fbAhaKPb72U7ertdw00EJKh\"\n",
        "downloaded = drive.CreateFile({'id':id})\n",
        "fileName = 'openpowerlifting-2021-12-10-b420db66.csv'\n",
        "downloaded.GetContentFile(fileName)\n",
        "df = pd.read_csv(fileName)"
      ],
      "metadata": {
        "id": "FIpCvY_tEEmE"
      },
      "execution_count": null,
      "outputs": []
    },
    {
      "cell_type": "markdown",
      "source": [
        "##Main Project\n",
        "1&2. Top 10 States"
      ],
      "metadata": {
        "id": "dT-mOaewsu22"
      }
    },
    {
      "cell_type": "code",
      "source": [
        "### PROGRAM CONFIGURATIONS\n",
        "\n",
        "# Gender: 'M' for male and 'F' for female\n",
        "gender = 'M'\n",
        "\n",
        "### END PROGRAM CONFIGURATIONS\n",
        "from pandas.core.algorithms import value_counts\n",
        "import pandas as pd\n",
        "id = \"1eY0SsAcV1fbAhaKPb72U7ertdw00EJKh\"\n",
        "downloaded = drive.CreateFile({'id':id})\n",
        "fileName = 'openpowerlifting-2021-12-10-b420db66.csv'\n",
        "downloaded.GetContentFile(fileName)\n",
        "df = pd.read_csv(fileName)\n",
        "\n",
        "df = df.loc[df['Sex'] == gender] # Filters men\n",
        "df = df.loc[df['Country'] == 'USA'] # Filters people from USA\n",
        "values = df['State'].value_counts()\n",
        "\n",
        "print(values[:10])"
      ],
      "metadata": {
        "colab": {
          "base_uri": "https://localhost:8080/"
        },
        "id": "XGhV6BMRrbzD",
        "outputId": "6f2ed005-b76e-439f-b9c1-bb20b80e16ad"
      },
      "execution_count": null,
      "outputs": [
        {
          "output_type": "stream",
          "name": "stderr",
          "text": [
            "/usr/local/lib/python3.7/dist-packages/IPython/core/interactiveshell.py:2882: DtypeWarning: Columns (33,35,38) have mixed types.Specify dtype option on import or set low_memory=False.\n",
            "  exec(code_obj, self.user_global_ns, self.user_ns)\n"
          ]
        },
        {
          "output_type": "stream",
          "name": "stdout",
          "text": [
            "CA    32456\n",
            "TX    23517\n",
            "OH    11486\n",
            "FL    11341\n",
            "PA    10857\n",
            "NC    10507\n",
            "NY     9523\n",
            "VA     9312\n",
            "AZ     7632\n",
            "WA     6929\n",
            "Name: State, dtype: int64\n"
          ]
        }
      ]
    },
    {
      "cell_type": "markdown",
      "source": [
        "3&4. Bar and pie chart in top 20 or 30 states in matplotlib and seaborn."
      ],
      "metadata": {
        "id": "UPyXjXvBDkoD"
      }
    },
    {
      "cell_type": "code",
      "source": [
        "### PROGRAM CONFIGURATIONS\n",
        "\n",
        "# Gender: 'M' for male and 'F' for female\n",
        "gender = 'M'\n",
        "\n",
        "# States: How much states to display\n",
        "value = 30\n",
        "\n",
        "# Plotter: 'matplotlib' for matplotlib.pyplot and 'seaborn' for seaborn\n",
        "plotter = 'seaborn'\n",
        "\n",
        "# Chart: 'bar' for bar chart and 'pie' for pie chart\n",
        "chart = 'pie'\n",
        "\n",
        "### END PROGRAM CONFIGURATIONS\n",
        "from IPython.core.interactiveshell import InteractiveShell\n",
        "InteractiveShell.ast_node_interactivity = 'all'\n",
        "from pandas.core.algorithms import value_counts\n",
        "import pandas as pd\n",
        "from matplotlib import pyplot as plt\n",
        "import seaborn as sns\n",
        "%matplotlib inline\n",
        "\n",
        "id = \"1eY0SsAcV1fbAhaKPb72U7ertdw00EJKh\"\n",
        "downloaded = drive.CreateFile({'id':id})\n",
        "fileName = 'openpowerlifting-2021-12-10-b420db66.csv'\n",
        "downloaded.GetContentFile(fileName)\n",
        "df = pd.read_csv(fileName)\n",
        "\n",
        "df = df.loc[df['Sex'] == gender] # Filters specific gender\n",
        "df = df.loc[df['Country'] == 'USA'] # Filters people from USA\n",
        "values = df['State'].value_counts()[:value].to_dict()\n",
        "state, amount = values.keys(), values.values()\n",
        "\n",
        "if chart == 'bar' and plotter == 'matplotlib':\n",
        "  # Plot a bar chart with matplotlib.pyplot\n",
        "  fig = plt.figure()\n",
        "  ax = fig.add_axes([0,0,1,1])\n",
        "  ax.bar(state, amount)\n",
        "  plt.xticks(rotation=60)\n",
        "  plt.show()\n",
        "elif chart == 'pie' and plotter == 'matplotlib':\n",
        "  # Plot a pie chart with matplotlib.pyplot\n",
        "  fig = plt.figure()\n",
        "  ax = fig.add_axes([0,0,1,1])\n",
        "  ax.pie(amount, labels=state)\n",
        "  plt.show()\n",
        "elif chart == 'bar' and plotter == 'seaborn':\n",
        "  # Plot a bar chart with seaborn\n",
        "  sns.set_style('darkgrid')\n",
        "  sns.barplot(list(state), list(amount))\n",
        "  plt.xticks(rotation=60)\n",
        "  plt.show()\n",
        "elif chart == 'pie' and plotter == 'seaborn':\n",
        "  # Plot a pie chart with matplotlib.pyplot with seaborn color palette\n",
        "  # cause Seaborn doesnt have a function for pie charts\n",
        "  palette_color = sns.color_palette('bright')\n",
        "  fig = plt.figure()\n",
        "  ax = fig.add_axes([0,0,1,1])\n",
        "  ax.pie(amount, labels=state, colors=palette_color)\n",
        "  plt.show()"
      ],
      "metadata": {
        "id": "tb_F3dUJD2Gf",
        "colab": {
          "base_uri": "https://localhost:8080/",
          "height": 1000
        },
        "outputId": "3a734409-4529-4965-8216-fccd28e0c75c"
      },
      "execution_count": null,
      "outputs": [
        {
          "output_type": "stream",
          "name": "stderr",
          "text": [
            "/usr/local/lib/python3.7/dist-packages/IPython/core/interactiveshell.py:3326: DtypeWarning: Columns (33,35,38) have mixed types.Specify dtype option on import or set low_memory=False.\n",
            "  exec(code_obj, self.user_global_ns, self.user_ns)\n"
          ]
        },
        {
          "output_type": "execute_result",
          "data": {
            "text/plain": [
              "([<matplotlib.patches.Wedge at 0x7f7e7d2f4d50>,\n",
              "  <matplotlib.patches.Wedge at 0x7f7e7d2e27d0>,\n",
              "  <matplotlib.patches.Wedge at 0x7f7e7d2e2050>,\n",
              "  <matplotlib.patches.Wedge at 0x7f7e7d2ff350>,\n",
              "  <matplotlib.patches.Wedge at 0x7f7e7883f990>,\n",
              "  <matplotlib.patches.Wedge at 0x7f7e7883fd50>,\n",
              "  <matplotlib.patches.Wedge at 0x7f7e7d00b510>,\n",
              "  <matplotlib.patches.Wedge at 0x7f7e7d00b290>,\n",
              "  <matplotlib.patches.Wedge at 0x7f7e7883f290>,\n",
              "  <matplotlib.patches.Wedge at 0x7f7e7d00b450>,\n",
              "  <matplotlib.patches.Wedge at 0x7f7e7d2f4590>,\n",
              "  <matplotlib.patches.Wedge at 0x7f7e7d2fb590>,\n",
              "  <matplotlib.patches.Wedge at 0x7f7e796cac50>,\n",
              "  <matplotlib.patches.Wedge at 0x7f7e796ca410>,\n",
              "  <matplotlib.patches.Wedge at 0x7f7e796d6950>,\n",
              "  <matplotlib.patches.Wedge at 0x7f7e796d6210>,\n",
              "  <matplotlib.patches.Wedge at 0x7f7e79657290>,\n",
              "  <matplotlib.patches.Wedge at 0x7f7e79657250>,\n",
              "  <matplotlib.patches.Wedge at 0x7f7e79657750>,\n",
              "  <matplotlib.patches.Wedge at 0x7f7e79d31c10>,\n",
              "  <matplotlib.patches.Wedge at 0x7f7e79d31e90>,\n",
              "  <matplotlib.patches.Wedge at 0x7f7e75b1fc50>,\n",
              "  <matplotlib.patches.Wedge at 0x7f7e75b1da50>,\n",
              "  <matplotlib.patches.Wedge at 0x7f7e77183350>,\n",
              "  <matplotlib.patches.Wedge at 0x7f7e77183390>,\n",
              "  <matplotlib.patches.Wedge at 0x7f7e6f59dd90>,\n",
              "  <matplotlib.patches.Wedge at 0x7f7e6f59d110>,\n",
              "  <matplotlib.patches.Wedge at 0x7f7e6e121ed0>,\n",
              "  <matplotlib.patches.Wedge at 0x7f7e6e121e50>,\n",
              "  <matplotlib.patches.Wedge at 0x7f7e6d8eb410>],\n",
              " [Text(0.9940722329859037, 0.4709781264628107, 'CA'),\n",
              "  Text(0.39293607325438346, 1.0274245677106548, 'TX'),\n",
              "  Text(-0.12282882419183769, 1.0931207984242413, 'OH'),\n",
              "  Text(-0.4516339613821256, 1.0030088558563623, 'FL'),\n",
              "  Text(-0.7300261921731697, 0.8228376259877416, 'PA'),\n",
              "  Text(-0.9355568046083267, 0.5785615484553545, 'NC'),\n",
              "  Text(-1.0569206444753307, 0.30482577201058914, 'NY'),\n",
              "  Text(-1.099682672733263, 0.026420054697664345, 'VA'),\n",
              "  Text(-1.0765240225090456, -0.2260443075172301, 'AZ'),\n",
              "  Text(-1.0108076142097986, -0.43389856770389934, 'WA'),\n",
              "  Text(-0.9135738452165671, -0.6126849348043544, 'MO'),\n",
              "  Text(-0.7908020880422927, -0.7646123577002598, 'GA'),\n",
              "  Text(-0.6470052928848883, -0.8895977467254175, 'WI'),\n",
              "  Text(-0.4904006208304596, -0.9846355828879536, 'IL'),\n",
              "  Text(-0.3312673642787739, -1.0489337125690041, 'NJ'),\n",
              "  Text(-0.16944990356332978, -1.0868701533220877, 'LA'),\n",
              "  Text(-0.0072429112492031315, -1.099976154394556, 'MD'),\n",
              "  Text(0.15135081039140458, -1.0895379443570863, 'MA'),\n",
              "  Text(0.3058918496299173, -1.0566125951974963, 'CO'),\n",
              "  Text(0.45141516738982945, -1.0031073455270938, 'OK'),\n",
              "  Text(0.5804352347029689, -0.934395493522582, 'TN'),\n",
              "  Text(0.6940642235967792, -0.853390211757201, 'OR'),\n",
              "  Text(0.7928942653552834, -0.7624425774881054, 'MI'),\n",
              "  Text(0.8753927889896721, -0.6660986901239812, 'AL'),\n",
              "  Text(0.9439964395288394, -0.5646863927498823, 'IN'),\n",
              "  Text(0.9984835961601725, -0.4615522811113056, 'NV'),\n",
              "  Text(1.039841089098047, -0.3587903418758479, 'KY'),\n",
              "  Text(1.0701110383317405, -0.25468090945448646, 'KS'),\n",
              "  Text(1.089523499230575, -0.1514547609828209, 'AR'),\n",
              "  Text(1.0988482898516017, -0.05032331358536184, 'HI')])"
            ]
          },
          "metadata": {},
          "execution_count": 19
        },
        {
          "output_type": "display_data",
          "data": {
            "text/plain": [
              "<Figure size 432x288 with 1 Axes>"
            ],
            "image/png": "[encoded data removed]"
          },
          "metadata": {}
        }
      ]
    },
    {
      "cell_type": "markdown",
      "source": [
        "5&6. Top 10 States in 2021"
      ],
      "metadata": {
        "id": "L_P5_1rYyVVj"
      }
    },
    {
      "cell_type": "code",
      "source": [
        "### PROGRAM CONFIGURATIONS\n",
        "\n",
        "# Gender: 'M' for male and 'F' for female\n",
        "gender = 'M'\n",
        "\n",
        "### END PROGRAM CONFIGURATIONS\n",
        "from pandas.core.algorithms import value_counts\n",
        "import pandas as pd\n",
        "id = \"1eY0SsAcV1fbAhaKPb72U7ertdw00EJKh\"\n",
        "downloaded = drive.CreateFile({'id':id})\n",
        "fileName = 'openpowerlifting-2021-12-10-b420db66.csv'\n",
        "downloaded.GetContentFile(fileName)\n",
        "df = pd.read_csv(fileName)\n",
        "\n",
        "df = df.loc[df['Sex'] == gender] # Filters men\n",
        "df = df.loc[df['Country'] == 'USA'] # Filters people from USA\n",
        "df = df[df['Date'].str.match('(2021)', na=False)] # Fiters people in 2021\n",
        "values = df['State'].value_counts()\n",
        "\n",
        "print(values[:10])"
      ],
      "metadata": {
        "colab": {
          "base_uri": "https://localhost:8080/"
        },
        "id": "5mRwT0pnyh2e",
        "outputId": "c66527b7-84ff-4653-a8f2-ad3aca596384"
      },
      "execution_count": null,
      "outputs": [
        {
          "output_type": "stream",
          "name": "stderr",
          "text": [
            "/usr/local/lib/python3.7/dist-packages/IPython/core/interactiveshell.py:2882: DtypeWarning: Columns (33,35,38) have mixed types.Specify dtype option on import or set low_memory=False.\n",
            "  exec(code_obj, self.user_global_ns, self.user_ns)\n"
          ]
        },
        {
          "output_type": "stream",
          "name": "stdout",
          "text": [
            "CA    3384\n",
            "TX    3037\n",
            "FL    1781\n",
            "OH    1529\n",
            "PA    1183\n",
            "VA    1156\n",
            "NC    1109\n",
            "NY    1033\n",
            "GA     935\n",
            "MO     891\n",
            "Name: State, dtype: int64\n"
          ]
        }
      ]
    },
    {
      "cell_type": "markdown",
      "source": [
        "7. Stack bar chart for men and women (X axis) divided by age\n",
        "(18-30 | 31-40 | 41-50 | 51-60)"
      ],
      "metadata": {
        "id": "xwpcskZy7E3B"
      }
    },
    {
      "cell_type": "code",
      "source": [
        "### NO PROGRAM CONFIGURATIONS\n",
        "from pandas.core.algorithms import value_counts\n",
        "import pandas as pd\n",
        "from IPython.core.interactiveshell import InteractiveShell\n",
        "from matplotlib import pyplot as plt\n",
        "InteractiveShell.ast_node_interactivity = 'all'\n",
        "id = \"1eY0SsAcV1fbAhaKPb72U7ertdw00EJKh\"\n",
        "downloaded = drive.CreateFile({'id':id})\n",
        "fileName = 'openpowerlifting-2021-12-10-b420db66.csv'\n",
        "downloaded.GetContentFile(fileName)\n",
        "df = pd.read_csv(fileName)\n",
        "%matplotlib inline\n",
        "\n",
        "def dfinsert(df=None, data=None, index=0):\n",
        "  line = pd.DataFrame(data, index=[index+1])\n",
        "  df2 = pd.concat([df.iloc[:index], line, df.iloc[index:]]).reset_index(drop=True)\n",
        "  return df2\n",
        "\n",
        "df = df.loc[df['Country'] == 'USA'] # Filters people from USA\n",
        "\n",
        "dfm = df.loc[df['Sex'] == 'M'] # Filters men\n",
        "\n",
        "dfm1 = dfm.loc[dfm['Age'] >= 18.0]\n",
        "dfm1 = dfm1.loc[dfm['Age'] <= 30.0]\n",
        "dfm1 = len(dfm1.index)\n",
        "\n",
        "dfm2 = dfm.loc[dfm['Age'] >= 31.0]\n",
        "dfm2 = dfm2.loc[dfm['Age'] <= 40.0]\n",
        "dfm2 = len(dfm2.index)\n",
        "\n",
        "dfm3 = dfm.loc[dfm['Age'] >= 41.0]\n",
        "dfm3 = dfm3.loc[dfm['Age'] <= 50.0]\n",
        "dfm3 = len(dfm3.index)\n",
        "\n",
        "dfm4 = dfm.loc[dfm['Age'] >= 51.0]\n",
        "dfm4 = dfm4.loc[dfm['Age'] <= 60.0]\n",
        "dfm4 = len(dfm4.index)\n",
        "\n",
        "dff = df.loc[df['Sex'] == 'F'] # Filters women\n",
        "\n",
        "dff1 = dff.loc[dff['Age'] >= 18.0]\n",
        "dff1 = dff1.loc[dff['Age'] <= 30.0]\n",
        "dff1 = len(dff1.index)\n",
        "\n",
        "dff2 = dff.loc[dff['Age'] >= 31.0]\n",
        "dff2 = dff2.loc[dff['Age'] <= 40.0]\n",
        "dff2 = len(dff2.index)\n",
        "\n",
        "dff3 = dff.loc[dff['Age'] >= 41.0]\n",
        "dff3 = dff3.loc[dff['Age'] <= 50.0]\n",
        "dff3 = len(dff3.index)\n",
        "\n",
        "dff4 = dff.loc[dff['Age'] >= 51.0]\n",
        "dff4 = dff4.loc[dff['Age'] <= 60.0]\n",
        "dff4 = len(dff4.index)\n",
        "\n",
        "fig, ax = plt.subplots()\n",
        "\n",
        "labels = ['Men', 'Women']\n",
        "l1, l2, l3, l4 = [dfm1, dff1], [dfm2, dff2], [dfm3, dff3], [dfm4, dff4]\n",
        "\n",
        "b1 = ax.bar(labels, l1, label=l1, color='red', width=0.3)\n",
        "b2 = ax.bar(labels, l2, label=l2, bottom=l1, color='yellow', width=0.3)\n",
        "b3 = ax.bar(labels, l3, label=l3, bottom=l2, color='green', width=0.3)\n",
        "b4 = ax.bar(labels, l4, label=l4, bottom=l3, color='blue', width=0.3)\n",
        "\n",
        "plt.legend([b1, b2, b3, b4], ['18-30', '31-40', '41-50', '51-60'], title=\"Age\", loc=\"upper right\")\n",
        "\n",
        "plt.show()"
      ],
      "metadata": {
        "id": "w5mBsEqU7ENM",
        "colab": {
          "base_uri": "https://localhost:8080/"
        },
        "outputId": "a2cf27a8-7dbf-48f6-82b0-76763b0fe654"
      },
      "execution_count": null,
      "outputs": [
        {
          "output_type": "stream",
          "name": "stderr",
          "text": [
            "/usr/local/lib/python3.7/dist-packages/IPython/core/interactiveshell.py:3326: DtypeWarning: Columns (33,35,38) have mixed types.Specify dtype option on import or set low_memory=False.\n",
            "  exec(code_obj, self.user_global_ns, self.user_ns)\n"
          ]
        },
        {
          "output_type": "execute_result",
          "data": {
            "text/plain": [
              "<matplotlib.legend.Legend at 0x7f0328f4dad0>"
            ]
          },
          "metadata": {},
          "execution_count": 5
        },
        {
          "output_type": "display_data",
          "data": {
            "text/plain": [
              "<Figure size 432x288 with 1 Axes>"
            ],
            "image/png": "[encoded data removed]"
          },
          "metadata": {
            "needs_background": "light"
          }
        }
      ]
    },
    {
      "cell_type": "markdown",
      "source": [
        "8&9: Pie chart on age groups (18-30 | 31-40 | 41-50 | 51-60)"
      ],
      "metadata": {
        "id": "XSuSA5Hb_Nzb"
      }
    },
    {
      "cell_type": "code",
      "source": [
        "### PROGRAM CONFIGURATIONS\n",
        "\n",
        "# Gender: 'M' for male and 'F' for female\n",
        "gender = 'M'\n",
        "\n",
        "### END PROGRAM CONFIGURATIONS\n",
        "from pandas.core.algorithms import value_counts\n",
        "import pandas as pd\n",
        "from IPython.core.interactiveshell import InteractiveShell\n",
        "from matplotlib import pyplot as plt\n",
        "InteractiveShell.ast_node_interactivity = 'all'\n",
        "id = \"1eY0SsAcV1fbAhaKPb72U7ertdw00EJKh\"\n",
        "downloaded = drive.CreateFile({'id':id})\n",
        "fileName = 'openpowerlifting-2021-12-10-b420db66.csv'\n",
        "downloaded.GetContentFile(fileName)\n",
        "df = pd.read_csv(fileName)\n",
        "%matplotlib inline\n",
        "\n",
        "df = df.loc[df['Country'] == 'USA'] # Filters people from USA\n",
        "\n",
        "dfg = df.loc[df['Sex'] == gender] # Filters specific gender\n",
        "\n",
        "dfg1 = dfg.loc[dfg['Age'] >= 18.0]\n",
        "dfg1 = dfg1.loc[dfg['Age'] <= 30.0]\n",
        "dfg1 = len(dfg1.index)\n",
        "\n",
        "dfg2 = dfg.loc[dfg['Age'] >= 31.0]\n",
        "dfg2 = dfg2.loc[dfg['Age'] <= 40.0]\n",
        "dfg2 = len(dfg2.index)\n",
        "\n",
        "dfg3 = dfg.loc[dfg['Age'] >= 41.0]\n",
        "dfg3 = dfg3.loc[dfg['Age'] <= 50.0]\n",
        "dfg3 = len(dfg3.index)\n",
        "\n",
        "dfg4 = dfg.loc[dfg['Age'] >= 51.0]\n",
        "dfg4 = dfg4.loc[dfg['Age'] <= 60.0]\n",
        "dfg4 = len(dfg4.index)\n",
        "\n",
        "labels = ['18-30', '31-40', '41-50', '51-60']\n",
        "data = [dfg1, dfg2, dfg3, dfg4]\n",
        "\n",
        "fig, ax = plt.subplots()\n",
        "ax.pie(data, labels=labels, autopct='%1.4f%%')\n",
        "ax.axis('equal')  # Equal aspect ratio ensures that pie is drawn as a circle.\n",
        "\n",
        "plt.show()"
      ],
      "metadata": {
        "colab": {
          "base_uri": "https://localhost:8080/",
          "height": 523
        },
        "id": "_SC-FgP3_amj",
        "outputId": "9da6aee0-9255-41dd-db8a-d5f71f72d91a"
      },
      "execution_count": null,
      "outputs": [
        {
          "output_type": "execute_result",
          "data": {
            "text/plain": [
              "([<matplotlib.patches.Wedge at 0x7f7e6faba0d0>,\n",
              "  <matplotlib.patches.Wedge at 0x7f7e777c9e90>,\n",
              "  <matplotlib.patches.Wedge at 0x7f7e777c9410>,\n",
              "  <matplotlib.patches.Wedge at 0x7f7e78ac2690>],\n",
              " [Text(-0.15299188178071346, 1.089308718458269, '18-30'),\n",
              "  Text(-0.6306487808650947, -0.9012669500172354, '31-40'),\n",
              "  Text(0.5693382871406851, -0.9411981272801764, '41-50'),\n",
              "  Text(1.0581609974211832, -0.30049176949894424, '51-60')],\n",
              " [Text(-0.0834501173349346, 0.5941683918863284, '54.4416%'),\n",
              "  Text(-0.3439902441082334, -0.4916001545548556, '21.6825%'),\n",
              "  Text(0.3105481566221918, -0.513380796698278, '15.0686%'),\n",
              "  Text(0.5771787258660999, -0.16390460154487865, '8.8074%')])"
            ]
          },
          "metadata": {},
          "execution_count": 18
        },
        {
          "output_type": "execute_result",
          "data": {
            "text/plain": [
              "(-1.110669782977448,\n",
              " 1.100508084903688,\n",
              " -1.1148764784344973,\n",
              " 1.1113722251629057)"
            ]
          },
          "metadata": {},
          "execution_count": 18
        },
        {
          "output_type": "display_data",
          "data": {
            "text/plain": [
              "<Figure size 432x288 with 1 Axes>"
            ],
            "image/png": "[encoded data removed]"
          },
          "metadata": {}
        }
      ]
    },
    {
      "cell_type": "markdown",
      "source": [
        "10&11: Histogram on age groups (18-30 | 31-40 | 41-50 | 51-60)"
      ],
      "metadata": {
        "id": "lwtNBABgEZLg"
      }
    },
    {
      "cell_type": "code",
      "source": [
        "### PROGRAM CONFIGURATIONS\n",
        "\n",
        "# Gender: 'M' for male and 'F' for female\n",
        "gender = 'M'\n",
        "\n",
        "### END PROGRAM CONFIGURATIONS\n",
        "from pandas.core.algorithms import value_counts\n",
        "import pandas as pd\n",
        "from IPython.core.interactiveshell import InteractiveShell\n",
        "from matplotlib import pyplot as plt\n",
        "InteractiveShell.ast_node_interactivity = 'all'\n",
        "id = \"1eY0SsAcV1fbAhaKPb72U7ertdw00EJKh\"\n",
        "downloaded = drive.CreateFile({'id':id})\n",
        "fileName = 'openpowerlifting-2021-12-10-b420db66.csv'\n",
        "downloaded.GetContentFile(fileName)\n",
        "df = pd.read_csv(fileName)\n",
        "%matplotlib inline\n",
        "\n",
        "df = df.loc[df['Country'] == 'USA'] # Filters people from USA\n",
        "\n",
        "dfg = df.loc[df['Sex'] == gender] # Filters specific gender\n",
        "\n",
        "data1 = []\n",
        "\n",
        "for i in range(42):\n",
        "  j = i + 18\n",
        "  rd = dfg.loc[dfg['Age'] == j]\n",
        "  d = len(rd.index)\n",
        "  data1.append(d)\n",
        "\n",
        "print(data1)\n",
        "\n",
        "dfp = dfg['Age']\n",
        "\n",
        "dfp.plot.hist()\n",
        "\n",
        "plt.show()"
      ],
      "metadata": {
        "colab": {
          "base_uri": "https://localhost:8080/",
          "height": 339
        },
        "id": "w5ts8ectEhWw",
        "outputId": "dd10d8d4-f61a-4df5-c255-5df498531ddf"
      },
      "execution_count": null,
      "outputs": [
        {
          "output_type": "stream",
          "name": "stderr",
          "text": [
            "/usr/local/lib/python3.7/dist-packages/IPython/core/interactiveshell.py:3326: DtypeWarning: Columns (33,35,38) have mixed types.Specify dtype option on import or set low_memory=False.\n",
            "  exec(code_obj, self.user_global_ns, self.user_ns)\n"
          ]
        },
        {
          "output_type": "stream",
          "name": "stdout",
          "text": [
            "[5723, 7190, 7319, 7798, 8602, 10081, 7409, 7269, 7190, 6780, 6860, 6401, 5997, 5076, 4884, 4869, 4309, 5333, 4549, 4401, 3854, 4146, 4672, 3912, 3826, 3599, 3563, 3352, 3076, 2919, 2729, 2715, 2919, 2683, 2158, 2056, 2047, 2116, 1863, 1769, 1481, 1441]\n"
          ]
        },
        {
          "output_type": "display_data",
          "data": {
            "text/plain": [
              "<Figure size 432x288 with 1 Axes>"
            ],
            "image/png": "[encoded data removed]"
          },
          "metadata": {
            "needs_background": "light"
          }
        }
      ]
    },
    {
      "cell_type": "markdown",
      "source": [
        "\n",
        "\n",
        "---\n",
        "\n",
        "\n",
        "# **Tips**\n",
        "Some tips that will get you started (and help you when you're confused)"
      ],
      "metadata": {
        "id": "VpThHjSaByCE"
      }
    },
    {
      "cell_type": "markdown",
      "source": [
        "##Weekly meeting tips\n",
        "\n",
        "\n",
        "1.   These meeting are recorded! Keep it short and sweet!\n",
        "2.   Describe your what you achieved in code in 5-10 minutes.\n",
        "3.   What is blocking you? Any blockers? Explain it in a weekly meeting.\n",
        "\n"
      ],
      "metadata": {
        "id": "HMJtCqVg4pnf"
      }
    },
    {
      "cell_type": "markdown",
      "source": [
        "## Confused? Here's the steps to finish the project:\n",
        "\n",
        "\n",
        "1. Read the readme document\n",
        "2. Watch pair coding videos in order by date\n",
        "3. Code with the videos\n",
        "4. If you have any problems, describe it in a weekly meeting and it will be fixed\n",
        "5. When done, push to Git/GitHub\n",
        "6. Also, make a presentation about what you learned\n",
        "7. Once completed with the whole section, do the final report"
      ],
      "metadata": {
        "id": "ERYkyTXF3YMU"
      }
    },
    {
      "cell_type": "markdown",
      "source": [
        "**Also, make sure to change the compute engine when switching miniprojects.**\n",
        "\n",
        "**That's it!**\n",
        "\n",
        "### **If you are experiencing issues with setup scripts, add the Zoom-Recordings-Common folder after the MyDrive folder.**"
      ],
      "metadata": {
        "id": "tNkKOqoD_pKz"
      }
    }
  ]
}
