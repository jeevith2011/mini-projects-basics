{
  "nbformat": 4,
  "nbformat_minor": 0,
  "metadata": {
    "colab": {
      "provenance": [],
      "authorship_tag": "ABX9TyNSzk+VPRHl9A0fjJHgzcn2",
      "include_colab_link": true
    },
    "kernelspec": {
      "name": "python3",
      "display_name": "Python 3"
    },
    "language_info": {
      "name": "python"
    }
  },
  "cells": [
    {
      "cell_type": "markdown",
      "metadata": {
        "id": "view-in-github",
        "colab_type": "text"
      },
      "source": [
        "<a href=\"https://colab.research.google.com/github/jeevith2011/mini-projects-basics/blob/main/MiniProject_6_Ebola.ipynb\" target=\"_parent\"><img src=\"https://colab.research.google.com/assets/colab-badge.svg\" alt=\"Open In Colab\"/></a>"
      ]
    },
    {
      "cell_type": "markdown",
      "source": [
        "\n",
        "\n",
        "---\n",
        "\n",
        "\n",
        "# **Tips**\n",
        "Some tips that will get you started (and help you when you're confused)"
      ],
      "metadata": {
        "id": "VpThHjSaByCE"
      }
    },
    {
      "cell_type": "markdown",
      "source": [
        "##Weekly meeting tips\n",
        "\n",
        "\n",
        "1.   These meeting are recorded! Keep it short and sweet!\n",
        "2.   Describe your what you achieved in code in 5-10 minutes.\n",
        "3.   What is blocking you? Any blockers? Explain it in a weekly meeting.\n",
        "\n"
      ],
      "metadata": {
        "id": "HMJtCqVg4pnf"
      }
    },
    {
      "cell_type": "markdown",
      "source": [
        "## Confused? Here's the steps to finish the project:\n",
        "\n",
        "\n",
        "1. Read the readme document\n",
        "2. Watch pair coding videos in order by date\n",
        "3. Code with the videos\n",
        "4. If you have any problems, describe it in a weekly meeting and it will be fixed\n",
        "5. When done, push to Git/GitHub\n",
        "6. Also, make a presentation about what you learned\n",
        "7. Once completed with the whole section, do the final report"
      ],
      "metadata": {
        "id": "ERYkyTXF3YMU"
      }
    },
    {
      "cell_type": "markdown",
      "source": [
        "**Also, make sure to change the compute engine when switching miniprojects.**\n",
        "\n",
        "**That's it!**\n",
        "\n",
        "### **If you are experiencing issues with setup scripts, add the Zoom-Recordings-Common folder after the MyDrive folder.**"
      ],
      "metadata": {
        "id": "tNkKOqoD_pKz"
      }
    },
    {
      "cell_type": "markdown",
      "source": [
        "# **Setup Script**"
      ],
      "metadata": {
        "id": "G4CkiOC2uiuI"
      }
    },
    {
      "cell_type": "code",
      "source": [
        "from google.colab import drive\n",
        "import pandas as pd\n",
        "from pandas.core.algorithms import value_counts\n",
        "from IPython.core.interactiveshell import InteractiveShell\n",
        "InteractiveShell.ast_node_interactivity = 'all'\n",
        "\n",
        "# NOTE: this will pop up asking for google login permission\n",
        "drive.mount('/content/drive')\n",
        "# linux command to list the files under linux running\n",
        "#Colab Jupyter notebook (prints dir/files/links in your Drive)\n",
        "\n",
        "# Airport ID, Name of airport, City, Country, IATA, ICAO, Latitude, Longitude, Altitude, Timezone, DST, TZ Database Timezone, Type, Source\n",
        "# See https://openflights.org/data.php for help\n",
        "\n",
        "!ls -ltr /content/drive/MyDrive/ | grep *.csv\n",
        "!ls -ltr /content/drive/MyDrive/Zoom-Recordings-Common/dataset/dataset_csv/\n",
        "!ls -ltr /content/drive/MyDrive/Zoom-Recordings-Common/dataset/dataset_csv/dataset_ebola | grep dataset\n",
        "!ls -ltr /content/drive/MyDrive/Zoom-Recordings-Common/dataset/dataset_csv/dataset_ebola/ebola_data_db_format.csv | grep dataset"
      ],
      "metadata": {
        "colab": {
          "base_uri": "https://localhost:8080/"
        },
        "id": "4VIfRiAfu3jq",
        "outputId": "54ab8441-204f-4058-d55a-9e7bfa14fbde"
      },
      "execution_count": null,
      "outputs": [
        {
          "output_type": "stream",
          "name": "stdout",
          "text": [
            "Drive already mounted at /content/drive; to attempt to forcibly remount, call drive.mount(\"/content/drive\", force_remount=True).\n",
            "total 52\n",
            "dr-x------ 2 root root 4096 Feb 26  2022 dataset-titanic\n",
            "dr-x------ 2 root root 4096 Feb 26  2022 dataset-powerlifting-csv\n",
            "dr-x------ 2 root root 4096 Feb 26  2022 dataset_open_crime_uk\n",
            "dr-x------ 2 root root 4096 Feb 26  2022 dataset-google-scholar\n",
            "dr-x------ 2 root root 4096 Feb 26  2022 dataset_ebola\n",
            "dr-x------ 2 root root 4096 Feb 26  2022 dataset-domestic-flights-from-1990-to-2009\n",
            "dr-x------ 2 root root 4096 Feb 26  2022 dataset-covid-2\n",
            "dr-x------ 2 root root 4096 Feb 26  2022 dataset-covid\n",
            "dr-x------ 2 root root 4096 Feb 26  2022 dataset-airports\n",
            "dr-x------ 2 root root 4096 Mar  5  2022 dataset-museum-artifacts\n",
            "dr-x------ 2 root root 4096 Mar  5  2022 dataset-world-economy-worldbank\n",
            "dr-x------ 2 root root 4096 Jun 21  2023 dataset-hr\n",
            "dr-x------ 2 root root 4096 Nov 11 19:19 dataset-forest-fire\n",
            "-r-------- 1 root root 1422467 Feb 19  2022 /content/drive/MyDrive/Zoom-Recordings-Common/dataset/dataset_csv/dataset_ebola/ebola_data_db_format.csv\n"
          ]
        }
      ]
    },
    {
      "cell_type": "markdown",
      "source": [
        "# TASK 1\n",
        "Distinct # of Indicators in the universe (complete dataset). \\\n",
        "Output:\n",
        "Integer value\n"
      ],
      "metadata": {
        "id": "2aeY3S_VVyWg"
      }
    },
    {
      "cell_type": "code",
      "source": [
        "import pandas as pd\n",
        "\n",
        "df = pd.read_csv(\"/content/drive/MyDrive/Zoom-Recordings-Common/dataset/dataset_csv/dataset_ebola/ebola_data_db_format.csv\")\n",
        "df.columns = ['Indicator', 'Country', 'Date', 'Value']\n",
        "\n",
        "df = df.groupby('Indicator').nunique() # getting list of indicators using groupby and nunique\n",
        "\n",
        "indicators_count = df.index.size # getting length of dataframe using .index.size\n",
        "\n",
        "print(indicators_count)"
      ],
      "metadata": {
        "colab": {
          "base_uri": "https://localhost:8080/"
        },
        "id": "f1UPcvxUV1yn",
        "outputId": "654bc415-acf8-4c48-e4e9-1dc4167db999"
      },
      "execution_count": null,
      "outputs": [
        {
          "output_type": "stream",
          "name": "stdout",
          "text": [
            "36\n"
          ]
        }
      ]
    },
    {
      "cell_type": "markdown",
      "source": [
        "# TASK 2\n",
        "In the second half of the year 2015, how many countries have one or more “Cumulative number of confirmed Ebola cases” \\\n",
        "Output:\n",
        "Integer value"
      ],
      "metadata": {
        "id": "cBYH32O2XI9R"
      }
    },
    {
      "cell_type": "code",
      "source": [
        "import pandas as pd\n",
        "\n",
        "df = pd.read_csv(\"/content/drive/MyDrive/Zoom-Recordings-Common/dataset/dataset_csv/dataset_ebola/ebola_data_db_format.csv\")\n",
        "df.columns = ['Indicator', 'Country', 'Date', 'Value']\n",
        "\n",
        "indicator = 'Cumulative number of confirmed Ebola cases'\n",
        "\n",
        "# using regex to filter second half of year 2015\n",
        "# regex101 is a great tool for creating regex -> regex101.com\n",
        "filtered_df = df[df.Date.str.match(r'2015-(07|08|09|10|11|12)-\\d\\d')]\n",
        "\n",
        "# getting indicator with 'Cumulative number of confirmed Ebola cases'\n",
        "filtered_df = df.loc[df['Indicator'] == 'Cumulative number of confirmed Ebola cases']\n",
        "\n",
        "filtered_df = filtered_df.groupby('Country').sum() # getting list of countries using groupby and nunique\n",
        "\n",
        "amt_countries = filtered_df.index.size # getting length of dataframe using .index.size\n",
        "\n",
        "print(amt_countries)"
      ],
      "metadata": {
        "colab": {
          "base_uri": "https://localhost:8080/"
        },
        "id": "X0En1uSRXP42",
        "outputId": "2b62c5b7-5c6d-4970-902b-24204a0a7cc9"
      },
      "execution_count": null,
      "outputs": [
        {
          "output_type": "stream",
          "name": "stdout",
          "text": [
            "12\n"
          ]
        }
      ]
    },
    {
      "cell_type": "markdown",
      "source": [
        "# TASK 3\n",
        "Top 10 total Ebola cases confirmed. Note that Indicator = Cumulative number of confirmed Ebola cases. Include rank based on the total value (=cases confirmed). \\\n",
        "Output:\n",
        "country, total_value, rank"
      ],
      "metadata": {
        "id": "PUUA_kf2aha_"
      }
    },
    {
      "cell_type": "code",
      "source": [
        "import pandas as pd\n",
        "\n",
        "df = pd.read_csv(\"/content/drive/MyDrive/Zoom-Recordings-Common/dataset/dataset_csv/dataset_ebola/ebola_data_db_format.csv\")\n",
        "df.columns = ['Indicator', 'Country', 'Date', 'Value']\n",
        "\n",
        "indicator = 'Cumulative number of confirmed Ebola cases'\n",
        "\n",
        "# getting indicator with 'Cumulative number of confirmed Ebola cases'\n",
        "df = df.loc[df['Indicator'] == 'Cumulative number of confirmed Ebola cases']\n",
        "\n",
        "# sorting dataframe by highest amount of Ebola cases\n",
        "df = df.sort_values('Value', ascending=False) # sorting by value\n",
        "\n",
        "# Removing duplicates and selecting highest value\n",
        "df = df.drop_duplicates('Country', keep='first').head(10)\n",
        "\n",
        "# Resetting indexes for cleaner apperance\n",
        "df = df.reset_index()\n",
        "\n",
        "# Removing unnecessary columns\n",
        "df = df.drop(df.columns[[0, 2]], axis=1)\n",
        "\n",
        "# Adding rank column\n",
        "df['Rank'] = range(1, 11)\n",
        "\n",
        "print(df)"
      ],
      "metadata": {
        "colab": {
          "base_uri": "https://localhost:8080/"
        },
        "id": "2LozlL67ak9i",
        "outputId": "5798933e-176d-4640-abdb-43b23be1b816"
      },
      "execution_count": null,
      "outputs": [
        {
          "output_type": "stream",
          "name": "stdout",
          "text": [
            "                                    Indicator        Date   Value  Rank\n",
            "0  Cumulative number of confirmed Ebola cases  2015-11-24  8704.0     1\n",
            "1  Cumulative number of confirmed Ebola cases  2015-11-17  3351.0     2\n",
            "2  Cumulative number of confirmed Ebola cases  2015-03-02  3153.0     3\n",
            "3  Cumulative number of confirmed Ebola cases  2015-07-01    19.0     4\n",
            "4  Cumulative number of confirmed Ebola cases  2016-03-23     9.0     5\n",
            "5  Cumulative number of confirmed Ebola cases  2015-07-30     7.0     6\n",
            "6  Cumulative number of confirmed Ebola cases  2015-11-17     4.0     7\n",
            "7  Cumulative number of confirmed Ebola cases  2016-03-23     2.0     8\n",
            "8  Cumulative number of confirmed Ebola cases  2015-10-29     1.0     9\n",
            "9  Cumulative number of confirmed Ebola cases  2015-10-20     1.0    10\n"
          ]
        }
      ]
    },
    {
      "cell_type": "markdown",
      "source": [
        "# TASK 4\n",
        "Top 10 countries that have total cases with Indicator = “Cumulative number of confirmed probable and suspected Ebola deaths” in 2015 Q2 (i.e., April-June 2015). \\\n",
        "Output:\n",
        "country, total_cases, rank"
      ],
      "metadata": {
        "id": "B4XByIqvdMHJ"
      }
    },
    {
      "cell_type": "code",
      "source": [
        "import pandas as pd\n",
        "\n",
        "df = pd.read_csv(\"/content/drive/MyDrive/Zoom-Recordings-Common/dataset/dataset_csv/dataset_ebola/ebola_data_db_format.csv\")\n",
        "df.columns = ['Indicator', 'Country', 'Date', 'Value']\n",
        "\n",
        "indicator = 'Cumulative number of confirmed, probable and suspected Ebola cases'\n",
        "\n",
        "# getting indicator with 'Cumulative number of confirmed probable and suspected Ebola deaths'\n",
        "df = df.loc[df['Indicator'] == 'Cumulative number of confirmed, probable and suspected Ebola cases']\n",
        "\n",
        "# using regex to filter second quarter of year 2015\n",
        "# regex101 is a great tool for creating regex -> regex101.com\n",
        "df = df[df.Date.str.match(r'2015-(04|05|06)-\\d\\d')]\n",
        "\n",
        "# sorting dataframe by highest amount of Ebola cases\n",
        "df = df.sort_values('Value', ascending=False) # sorting by value\n",
        "\n",
        "# Removing duplicates and selecting highest value, and selecting top 10\n",
        "df = df.drop_duplicates('Country', keep='first').head(10)\n",
        "\n",
        "# Resetting indexes for cleaner apperance\n",
        "df = df.reset_index()\n",
        "\n",
        "# Removing unnecessary columns\n",
        "df = df.drop(df.columns[[0, 2, 3]], axis=1)\n",
        "\n",
        "# Adding rank column\n",
        "df['Rank'] = range(1, 11)\n",
        "\n",
        "print(df)"
      ],
      "metadata": {
        "colab": {
          "base_uri": "https://localhost:8080/"
        },
        "id": "qdJJ0ILudPAZ",
        "outputId": "5ff56392-c548-4bff-ae84-9c4b3e91a06f"
      },
      "execution_count": null,
      "outputs": [
        {
          "output_type": "stream",
          "name": "stdout",
          "text": [
            "                                           Indicator    Value  Rank\n",
            "0  Cumulative number of confirmed, probable and s...  13119.0     1\n",
            "1  Cumulative number of confirmed, probable and s...  10666.0     2\n",
            "2  Cumulative number of confirmed, probable and s...   3729.0     3\n",
            "3  Cumulative number of confirmed, probable and s...     20.0     4\n",
            "4  Cumulative number of confirmed, probable and s...      8.0     5\n",
            "5  Cumulative number of confirmed, probable and s...      4.0     6\n",
            "6  Cumulative number of confirmed, probable and s...      1.0     7\n",
            "7  Cumulative number of confirmed, probable and s...      1.0     8\n",
            "8  Cumulative number of confirmed, probable and s...      1.0     9\n",
            "9  Cumulative number of confirmed, probable and s...      1.0    10\n"
          ]
        }
      ]
    },
    {
      "cell_type": "markdown",
      "source": [
        "# TASK 5\n",
        "Top 10 countries that have total cases with Indicator = “Cumulative number of confirmed probable and suspected Ebola deaths” with only even months of the year 2015 (i.e., months 2, 4, 6, 8, 10, 12). \\\n",
        "Output:\n",
        "country, total_cases, rank"
      ],
      "metadata": {
        "id": "m10eVeR_efy3"
      }
    },
    {
      "cell_type": "code",
      "source": [
        "import pandas as pd\n",
        "\n",
        "df = pd.read_csv(\"/content/drive/MyDrive/Zoom-Recordings-Common/dataset/dataset_csv/dataset_ebola/ebola_data_db_format.csv\")\n",
        "df.columns = ['Indicator', 'Country', 'Date', 'Value']\n",
        "\n",
        "indicator = 'Cumulative number of confirmed, probable and suspected Ebola cases'\n",
        "\n",
        "# getting indicator with 'Cumulative number of confirmed probable and suspected Ebola deaths'\n",
        "df = df.loc[df['Indicator'] == 'Cumulative number of confirmed, probable and suspected Ebola cases']\n",
        "\n",
        "# using regex to filter even months of year 2015\n",
        "# regex101 is a great tool for creating regex -> regex101.com\n",
        "df = df[df.Date.str.match(r'2015-(02|04|06|08|10|12)-\\d\\d')]\n",
        "\n",
        "# sorting dataframe by highest amount of Ebola cases\n",
        "df = df.sort_values('Value', ascending=False) # sorting by value\n",
        "\n",
        "# Removing duplicates and selecting highest value, and selecting top 10\n",
        "df = df.drop_duplicates('Country', keep='first').head(10)\n",
        "\n",
        "# Resetting indexes for cleaner apperance\n",
        "df = df.reset_index()\n",
        "\n",
        "# Removing unnecessary columns\n",
        "df = df.drop(df.columns[[0, 2, 3]], axis=1)\n",
        "\n",
        "# Adding rank column\n",
        "df['Rank'] = range(1, 11)\n",
        "\n",
        "print(df)"
      ],
      "metadata": {
        "colab": {
          "base_uri": "https://localhost:8080/"
        },
        "id": "qfBPLlWXeqKh",
        "outputId": "bbabd4ae-c24f-45e6-c5f2-3424fbb8ffda"
      },
      "execution_count": null,
      "outputs": [
        {
          "output_type": "stream",
          "name": "stdout",
          "text": [
            "                                           Indicator    Value  Rank\n",
            "0  Cumulative number of confirmed, probable and s...  14122.0     1\n",
            "1  Cumulative number of confirmed, probable and s...  10666.0     2\n",
            "2  Cumulative number of confirmed, probable and s...   3809.0     3\n",
            "3  Cumulative number of confirmed, probable and s...     20.0     4\n",
            "4  Cumulative number of confirmed, probable and s...      9.0     5\n",
            "5  Cumulative number of confirmed, probable and s...      8.0     6\n",
            "6  Cumulative number of confirmed, probable and s...      4.0     7\n",
            "7  Cumulative number of confirmed, probable and s...      1.0     8\n",
            "8  Cumulative number of confirmed, probable and s...      1.0     9\n",
            "9  Cumulative number of confirmed, probable and s...      1.0    10\n"
          ]
        }
      ]
    },
    {
      "cell_type": "markdown",
      "source": [
        "# TASK 6\n",
        "Find Country and Indicator wise total value. Also, rank on the total_value which is the sum at the Country-Indicator level. \\\n",
        "Output:\n",
        "country, indicator, total_value, country_indicator_rank\n",
        "\n",
        "\"Find the top 10 of a Country-Indicator pair.\""
      ],
      "metadata": {
        "id": "6DyndJERe7US"
      }
    },
    {
      "cell_type": "code",
      "source": [
        "import pandas as pd\n",
        "\n",
        "df = pd.read_csv(\"/content/drive/MyDrive/Zoom-Recordings-Common/dataset/dataset_csv/dataset_ebola/ebola_data_db_format.csv\")\n",
        "df.columns = ['Indicator', 'Country', 'Date', 'Value']\n",
        "\n",
        "# Groupby multiple columns\n",
        "df = df.groupby(['Country', 'Indicator'], as_index=False) \\\n",
        "    .Value \\\n",
        "    .sum() \\\n",
        "    .sort_values(by='Value', ascending=False) \\\n",
        "    .reset_index() \\\n",
        "    .head(10)\n",
        "\n",
        "df['Rank'] = range(1, 11)\n",
        "\n",
        "print(df)"
      ],
      "metadata": {
        "colab": {
          "base_uri": "https://localhost:8080/"
        },
        "id": "W-HKn93IfAbs",
        "outputId": "ec4708c4-6cbd-4b01-be39-db47d403d707"
      },
      "execution_count": null,
      "outputs": [
        {
          "output_type": "stream",
          "name": "stdout",
          "text": [
            "   index       Country                                          Indicator  \\\n",
            "0    169  Sierra Leone  Cumulative number of confirmed, probable and s...   \n",
            "1     60       Liberia  Cumulative number of confirmed, probable and s...   \n",
            "2    167  Sierra Leone         Cumulative number of confirmed Ebola cases   \n",
            "3     64       Liberia         Cumulative number of suspected Ebola cases   \n",
            "4     61       Liberia  Cumulative number of confirmed, probable and s...   \n",
            "5    173  Sierra Leone         Cumulative number of suspected Ebola cases   \n",
            "6    170  Sierra Leone  Cumulative number of confirmed, probable and s...   \n",
            "7      6        Guinea  Cumulative number of confirmed, probable and s...   \n",
            "8    168  Sierra Leone        Cumulative number of confirmed Ebola deaths   \n",
            "9     58       Liberia         Cumulative number of confirmed Ebola cases   \n",
            "\n",
            "       Value  Rank  \n",
            "0  3003428.0     1  \n",
            "1  2458408.0     2  \n",
            "2  2041871.0     3  \n",
            "3  1211996.0     4  \n",
            "4  1099610.0     5  \n",
            "5   893756.0     6  \n",
            "6   888834.0     7  \n",
            "7   854118.0     8  \n",
            "8   797984.0     9  \n",
            "9   768079.0    10  \n"
          ]
        }
      ]
    },
    {
      "cell_type": "markdown",
      "source": [
        "# TASK 7\n",
        "For those Top 10 countries by Indicator = Cumulative number of confirmed Ebola cases, plot group bar chart. \\\n",
        "\n",
        "X-axis -> Country \\\n",
        "Y-axis -> Bar 1 -> total_value with Indicator = Cumulative number of suspected Ebola cases \\\n",
        "Y-axis -> Bar 2 ->  total_value with Indicator = Cumulative number of confirmed Ebola cases"
      ],
      "metadata": {
        "id": "muRgQKMlkFCf"
      }
    },
    {
      "cell_type": "code",
      "source": [
        "import pandas as pd\n",
        "\n",
        "df = pd.read_csv(\"/content/drive/MyDrive/Zoom-Recordings-Common/dataset/dataset_csv/dataset_ebola/ebola_data_db_format.csv\")\n",
        "df.columns = ['Indicator', 'Country', 'Date', 'Value']\n",
        "\n",
        "# getting indicator with 'Cumulative number of confirmed Ebola cases'\n",
        "# or Cumulative number of suspected Ebola cases'\n",
        "df1 = df.loc[df['Indicator'] == 'Cumulative number of confirmed Ebola cases']\n",
        "df2 = df.loc[df['Indicator'] == 'Cumulative number of suspected Ebola cases']\n",
        "\n",
        "# sorting dataframe by highest amount of Ebola cases\n",
        "df1 = df1.sort_values('Value', ascending=False) # sorting by value\n",
        "df2 = df2.sort_values('Value', ascending=False)\n",
        "\n",
        "# Removing duplicates and selecting highest value\n",
        "df1 = df1.drop_duplicates('Country', keep='first').head(10)\n",
        "df2 = df2.drop_duplicates('Country', keep='first').head(10)\n",
        "\n",
        "# Resetting indexes for cleaner apperance\n",
        "df1 = df1.reset_index()\n",
        "df2 = df2.reset_index()\n",
        "\n",
        "# Removing unnecessary columns\n",
        "df1 = df1.drop(df.columns[[0, 2]], axis=1)\n",
        "df2 = df2.drop(df.columns[[0, 2]], axis=1)\n",
        "\n",
        "# Need to reindex df2 because it has a different organization\n",
        "df = df.reindex(labels=[1, 2, 0, 4, 3, 6, 8, 5, 9, 7])\n",
        "\n",
        "### PLOTTING SECTION ###\n",
        "\n",
        "plotdf = pd.DataFrame(\n",
        "    {'confirmed': df1.Value.to_list(), 'suspected': df2.Value.to_list()},\n",
        "    index=df1.Country.to_list()\n",
        ")\n",
        "\n",
        "ax = plotdf.plot.bar(rot=0)"
      ],
      "metadata": {
        "colab": {
          "base_uri": "https://localhost:8080/",
          "height": 430
        },
        "id": "VV333cYvkUVb",
        "outputId": "b2e4f2e9-4f06-4841-8f5f-df253fa66d81"
      },
      "execution_count": null,
      "outputs": [
        {
          "output_type": "display_data",
          "data": {
            "text/plain": [
              "<Figure size 640x480 with 1 Axes>"
            ],
            "image/png": "[encoded data removed]"
          },
          "metadata": {}
        }
      ]
    }
  ]
}