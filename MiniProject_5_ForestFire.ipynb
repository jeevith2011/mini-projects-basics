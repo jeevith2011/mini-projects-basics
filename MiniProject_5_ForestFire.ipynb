{
  "nbformat": 4,
  "nbformat_minor": 0,
  "metadata": {
    "colab": {
      "provenance": [],
      "authorship_tag": "ABX9TyM34SMPfL7So/BEct7DpSo6",
      "include_colab_link": true
    },
    "kernelspec": {
      "name": "python3",
      "display_name": "Python 3"
    },
    "language_info": {
      "name": "python"
    }
  },
  "cells": [
    {
      "cell_type": "markdown",
      "metadata": {
        "id": "view-in-github",
        "colab_type": "text"
      },
      "source": [
        "<a href=\"https://colab.research.google.com/github/jeevith2011/mini-projects-basics/blob/main/MiniProject_5_ForestFire.ipynb\" target=\"_parent\"><img src=\"https://colab.research.google.com/assets/colab-badge.svg\" alt=\"Open In Colab\"/></a>"
      ]
    },
    {
      "cell_type": "markdown",
      "source": [
        "\n",
        "\n",
        "---\n",
        "\n",
        "\n",
        "# **Tips**\n",
        "Some tips that will get you started (and help you when you're confused)"
      ],
      "metadata": {
        "id": "VpThHjSaByCE"
      }
    },
    {
      "cell_type": "markdown",
      "source": [
        "##Weekly meeting tips\n",
        "\n",
        "\n",
        "1.   These meeting are recorded! Keep it short and sweet!\n",
        "2.   Describe your what you achieved in code in 5-10 minutes.\n",
        "3.   What is blocking you? Any blockers? Explain it in a weekly meeting.\n",
        "\n"
      ],
      "metadata": {
        "id": "HMJtCqVg4pnf"
      }
    },
    {
      "cell_type": "markdown",
      "source": [
        "## Confused? Here's the steps to finish the project:\n",
        "\n",
        "\n",
        "1. Read the readme document\n",
        "2. Watch pair coding videos in order by date\n",
        "3. Code with the videos\n",
        "4. If you have any problems, describe it in a weekly meeting and it will be fixed\n",
        "5. When done, push to Git/GitHub\n",
        "6. Also, make a presentation about what you learned\n",
        "7. Once completed with the whole section, do the final report"
      ],
      "metadata": {
        "id": "ERYkyTXF3YMU"
      }
    },
    {
      "cell_type": "markdown",
      "source": [
        "**Also, make sure to change the compute engine when switching miniprojects.**\n",
        "\n",
        "**That's it!**\n",
        "\n",
        "### **If you are experiencing issues with setup scripts, add the Zoom-Recordings-Common folder after the MyDrive folder.**"
      ],
      "metadata": {
        "id": "tNkKOqoD_pKz"
      }
    },
    {
      "cell_type": "markdown",
      "source": [
        "# **Setup Script**"
      ],
      "metadata": {
        "id": "G4CkiOC2uiuI"
      }
    },
    {
      "cell_type": "code",
      "source": [
        "from google.colab import drive\n",
        "import pandas as pd\n",
        "from pandas.core.algorithms import value_counts\n",
        "from IPython.core.interactiveshell import InteractiveShell\n",
        "InteractiveShell.ast_node_interactivity = 'all'\n",
        "\n",
        "# NOTE: this will pop up asking for google login permission\n",
        "drive.mount('/content/drive')\n",
        "# linux command to list the files under linux running\n",
        "#Colab Jupyter notebook (prints dir/files/links in your Drive)\n",
        "\n",
        "# Airport ID, Name of airport, City, Country, IATA, ICAO, Latitude, Longitude, Altitude, Timezone, DST, TZ Database Timezone, Type, Source\n",
        "# See https://openflights.org/data.php for help\n",
        "\n",
        "!ls -ltr /content/drive/MyDrive/ | grep *.csv\n",
        "!ls -ltr /content/drive/MyDrive/Zoom-Recordings-Common/dataset/dataset_csv/\n",
        "!ls -ltr /content/drive/MyDrive/Zoom-Recordings-Common/dataset/dataset_csv/dataset-forest-fire | grep dataset\n",
        "!ls -ltr /content/drive/MyDrive/Zoom-Recordings-Common/dataset/dataset_csv/dataset-forest-fire/forestfires.csv | grep dataset"
      ],
      "metadata": {
        "colab": {
          "base_uri": "https://localhost:8080/"
        },
        "id": "4VIfRiAfu3jq",
        "outputId": "d8f38fc9-8c3c-4498-a4f1-5ee05bec95b6"
      },
      "execution_count": 2,
      "outputs": [
        {
          "output_type": "stream",
          "name": "stdout",
          "text": [
            "Mounted at /content/drive\n",
            "ls: /content/drive/MyDrive/Zoom-Recordings-Common: No such file or directory\n",
            "total 52\n",
            "dr-x------ 2 root root 4096 Feb 26  2022 dataset-titanic\n",
            "dr-x------ 2 root root 4096 Feb 26  2022 dataset-powerlifting-csv\n",
            "dr-x------ 2 root root 4096 Feb 26  2022 dataset_open_crime_uk\n",
            "dr-x------ 2 root root 4096 Feb 26  2022 dataset-google-scholar\n",
            "dr-x------ 2 root root 4096 Feb 26  2022 dataset_ebola\n",
            "dr-x------ 2 root root 4096 Feb 26  2022 dataset-domestic-flights-from-1990-to-2009\n",
            "dr-x------ 2 root root 4096 Feb 26  2022 dataset-covid-2\n",
            "dr-x------ 2 root root 4096 Feb 26  2022 dataset-covid\n",
            "dr-x------ 2 root root 4096 Feb 26  2022 dataset-airports\n",
            "dr-x------ 2 root root 4096 Mar  5  2022 dataset-museum-artifacts\n",
            "dr-x------ 2 root root 4096 Mar  5  2022 dataset-world-economy-worldbank\n",
            "dr-x------ 2 root root 4096 Jun 21  2023 dataset-hr\n",
            "dr-x------ 2 root root 4096 Nov 11 19:19 dataset-forest-fire\n",
            "-r-------- 1 root root 25478 Sep 21  2019 /content/drive/MyDrive/Zoom-Recordings-Common/dataset/dataset_csv/dataset-forest-fire/forestfires.csv\n"
          ]
        }
      ]
    },
    {
      "cell_type": "markdown",
      "source": [
        "# TASK 1\n",
        "\n",
        "Top 10 maximum burnt area happened on which month.\n",
        "Output:\n",
        "month,area\n"
      ],
      "metadata": {
        "id": "736SjWr5vNuE"
      }
    },
    {
      "cell_type": "code",
      "source": [
        "import pandas as pd\n",
        "\n",
        "df = pd.read_csv(\"/content/drive/MyDrive/Zoom-Recordings-Common/dataset/dataset_csv/dataset-forest-fire/forestfires.csv\")\n",
        "df.columns = ['X', 'Y', 'month', 'day', 'FFMC', 'DMC', 'DC', 'ISI', 'temp', 'RH', 'wind', 'rain', 'area']\n",
        "\n",
        "df = df.drop(df.columns[[0, 1, 3, 4, 5, 6, 7, 8, 9, 10, 11]], axis=1) # remove unnecessary columns\n",
        "\n",
        "df = df.groupby('month') \\\n",
        "    .area \\\n",
        "    .sum() \\\n",
        "    .to_frame('area_sum') \\\n",
        "    .head(10) # sorting months by amount of hectares burned\n",
        "\n",
        "df = df.sort_values('area_sum', ascending=False)\n",
        "\n",
        "print(df)"
      ],
      "metadata": {
        "colab": {
          "base_uri": "https://localhost:8080/"
        },
        "id": "dR1LWGKsvaJL",
        "outputId": "e50287e9-586b-4869-df5f-25f090bdfddb"
      },
      "execution_count": null,
      "outputs": [
        {
          "output_type": "stream",
          "name": "stdout",
          "text": [
            "       area_sum\n",
            "month          \n",
            "aug     2297.99\n",
            "jul      459.83\n",
            "mar      235.26\n",
            "feb      125.50\n",
            "dec      119.97\n",
            "jun       99.30\n",
            "apr       80.02\n",
            "may       38.48\n",
            "jan        0.00\n",
            "nov        0.00\n"
          ]
        }
      ]
    },
    {
      "cell_type": "markdown",
      "source": [
        "# TASKS 2 - 4\n",
        "\n",
        "**Task 2** \\\n",
        "Highest temperature and lowest temperature for each month. \\\n",
        "Output:\n",
        "month,highest_temp, lowest_temp\n"
      ],
      "metadata": {
        "id": "KPHNKYAWgxVB"
      }
    },
    {
      "cell_type": "code",
      "source": [
        "import pandas as pd\n",
        "\n",
        "df = pd.read_csv(\"/content/drive/MyDrive/Zoom-Recordings-Common/dataset/dataset_csv/dataset-forest-fire/forestfires.csv\")\n",
        "df.columns = ['X', 'Y', 'month', 'day', 'FFMC', 'DMC', 'DC', 'ISI', 'temp', 'RH', 'wind', 'rain', 'area']\n",
        "\n",
        "df = df.drop(df.columns[[0, 1, 3, 4, 5, 6, 7, 9, 10, 11, 12]], axis=1) # remove unnecessary columns\n",
        "\n",
        "# getting max temperatures\n",
        "dfmax = df.groupby('month') \\\n",
        "    .temp \\\n",
        "    .max() \\\n",
        "    .to_frame('max_temp')\n",
        "\n",
        "# getting min temperatures\n",
        "dfmin = df.groupby('month') \\\n",
        "    .temp \\\n",
        "    .min() \\\n",
        "    .to_frame('min_temp')\n",
        "\n",
        "dfmax['min_temp'] = dfmin['min_temp'] # combine columns\n",
        "\n",
        "# no need to sort, this is not top 10\n",
        "\n",
        "print(dfmax)"
      ],
      "metadata": {
        "colab": {
          "base_uri": "https://localhost:8080/"
        },
        "id": "4XFGHcGRg3T0",
        "outputId": "ecf47f5d-63c5-42ad-cc00-0ce921e11ddb"
      },
      "execution_count": null,
      "outputs": [
        {
          "output_type": "stream",
          "name": "stdout",
          "text": [
            "       max_temp  min_temp\n",
            "month                    \n",
            "apr        17.6       5.8\n",
            "aug        33.3       5.1\n",
            "dec         5.1       2.2\n",
            "feb        15.7       4.2\n",
            "jan         5.3       5.2\n",
            "jul        30.2      12.6\n",
            "jun        28.0      10.6\n",
            "mar        18.8       5.3\n",
            "may        18.0      11.3\n",
            "nov        11.8      11.8\n",
            "oct        21.7      11.3\n",
            "sep        30.2       9.8\n"
          ]
        }
      ]
    },
    {
      "cell_type": "markdown",
      "source": [
        "**Task 3** \\\n",
        "Monthly when highest wind and lowest wind happened. \\\n",
        "Output:\n",
        "month,highest_wind, lowest_wind\n"
      ],
      "metadata": {
        "id": "9g5yTNTgLOqM"
      }
    },
    {
      "cell_type": "code",
      "source": [
        "import pandas as pd\n",
        "\n",
        "df = pd.read_csv(\"/content/drive/MyDrive/Zoom-Recordings-Common/dataset/dataset_csv/dataset-forest-fire/forestfires.csv\")\n",
        "df.columns = ['X', 'Y', 'month', 'day', 'FFMC', 'DMC', 'DC', 'ISI', 'temp', 'RH', 'wind', 'rain', 'area']\n",
        "\n",
        "df = df.drop(df.columns[[0, 1, 3, 4, 5, 6, 7, 8, 9, 11, 12]], axis=1) # remove unnecessary columns\n",
        "\n",
        "# getting max temperatures\n",
        "dfmax = df.groupby('month') \\\n",
        "    .wind \\\n",
        "    .max() \\\n",
        "    .to_frame('max_wind')\n",
        "\n",
        "# getting min temperatures\n",
        "dfmin = df.groupby('month') \\\n",
        "    .wind \\\n",
        "    .min() \\\n",
        "    .to_frame('min_wind')\n",
        "\n",
        "dfmax['min_wind'] = dfmin['min_wind'] # combine columns\n",
        "\n",
        "# no need to sort, this is not top 10\n",
        "\n",
        "print(dfmax)"
      ],
      "metadata": {
        "colab": {
          "base_uri": "https://localhost:8080/"
        },
        "id": "yGv5pT-jLSP6",
        "outputId": "919f3b9e-0597-427e-ab16-050cda0dadd3"
      },
      "execution_count": null,
      "outputs": [
        {
          "output_type": "stream",
          "name": "stdout",
          "text": [
            "       max_wind  min_wind\n",
            "month                    \n",
            "apr         9.4       1.8\n",
            "aug         8.9       0.4\n",
            "dec         8.5       4.9\n",
            "feb         9.4       0.9\n",
            "jan         3.1       0.9\n",
            "jul         8.0       0.9\n",
            "jun         9.4       1.3\n",
            "mar         9.4       0.9\n",
            "may         4.9       4.0\n",
            "nov         4.5       4.5\n",
            "oct         5.4       0.9\n",
            "sep         7.6       0.9\n"
          ]
        }
      ]
    },
    {
      "cell_type": "markdown",
      "source": [
        "**Task 4** \\\n",
        "Highest and lowest relative humidity for each month.\n",
        "Output: \\\n",
        "month,highest_rh, lowest_rh\n"
      ],
      "metadata": {
        "id": "3vBOxsnTLxso"
      }
    },
    {
      "cell_type": "code",
      "source": [
        "import pandas as pd\n",
        "\n",
        "df = pd.read_csv(\"/content/drive/MyDrive/Zoom-Recordings-Common/dataset/dataset_csv/dataset-forest-fire/forestfires.csv\")\n",
        "df.columns = ['X', 'Y', 'month', 'day', 'FFMC', 'DMC', 'DC', 'ISI', 'temp', 'RH', 'wind', 'rain', 'area']\n",
        "\n",
        "df = df.drop(df.columns[[0, 1, 3, 4, 5, 6, 7, 8, 10, 11, 12]], axis=1) # remove unnecessary columns\n",
        "\n",
        "# getting max temperatures\n",
        "dfmax = df.groupby('month') \\\n",
        "    .RH \\\n",
        "    .max() \\\n",
        "    .to_frame('max_rh')\n",
        "\n",
        "# getting min temperatures\n",
        "dfmin = df.groupby('month') \\\n",
        "    .RH \\\n",
        "    .min() \\\n",
        "    .to_frame('min_rh')\n",
        "\n",
        "dfmax['min_rh'] = dfmin['min_rh'] # combine columns\n",
        "\n",
        "# no need to sort, this is not top 10\n",
        "\n",
        "print(dfmax)"
      ],
      "metadata": {
        "colab": {
          "base_uri": "https://localhost:8080/"
        },
        "id": "8co1wIvsL2Qi",
        "outputId": "7b50ffbc-c173-475e-e6da-42bd97350dbd"
      },
      "execution_count": null,
      "outputs": [
        {
          "output_type": "stream",
          "name": "stdout",
          "text": [
            "       max_rh  min_rh\n",
            "month                \n",
            "apr        75      20\n",
            "aug        96      19\n",
            "dec        61      21\n",
            "feb        82      35\n",
            "jan       100      78\n",
            "jul        90      22\n",
            "jun        90      25\n",
            "mar        99      18\n",
            "may        94      40\n",
            "nov        31      31\n",
            "oct        60      24\n",
            "sep        86      15\n"
          ]
        }
      ]
    },
    {
      "cell_type": "markdown",
      "source": [
        "# TASK 5\n",
        "Join the output from questions 1-4 above. \\\n",
        "Output: \\\n",
        "month,area,highest_temp, lowest_temp,highest_wind, lowest_wind,highest_rh, lowest_rh\n"
      ],
      "metadata": {
        "id": "d3TH-6vRMTXA"
      }
    },
    {
      "cell_type": "code",
      "source": [
        "import pandas as pd\n",
        "\n",
        "### TASK 1 ###\n",
        "\n",
        "df = pd.read_csv(\"/content/drive/MyDrive/Zoom-Recordings-Common/dataset/dataset_csv/dataset-forest-fire/forestfires.csv\")\n",
        "df.columns = ['X', 'Y', 'month', 'day', 'FFMC', 'DMC', 'DC', 'ISI', 'temp', 'RH', 'wind', 'rain', 'area']\n",
        "\n",
        "df = df.drop(df.columns[[0, 1, 3, 4, 5, 6, 7, 8, 9, 10, 11]], axis=1) # remove unnecessary columns\n",
        "\n",
        "df = df.groupby('month') \\\n",
        "    .area \\\n",
        "    .sum() \\\n",
        "    .to_frame('area_sum') \\\n",
        "    .head(10) # sorting months by amount of hectares burned\n",
        "\n",
        "df1 = df.sort_values('area_sum', ascending=False)\n",
        "\n",
        "### TASK 2 ###\n",
        "\n",
        "df = pd.read_csv(\"/content/drive/MyDrive/Zoom-Recordings-Common/dataset/dataset_csv/dataset-forest-fire/forestfires.csv\")\n",
        "df.columns = ['X', 'Y', 'month', 'day', 'FFMC', 'DMC', 'DC', 'ISI', 'temp', 'RH', 'wind', 'rain', 'area']\n",
        "\n",
        "df = df.drop(df.columns[[0, 1, 3, 4, 5, 6, 7, 9, 10, 11, 12]], axis=1) # remove unnecessary columns\n",
        "\n",
        "# getting max temperatures\n",
        "df2 = df.groupby('month') \\\n",
        "    .temp \\\n",
        "    .max() \\\n",
        "    .to_frame('max_temp')\n",
        "\n",
        "# getting min temperatures\n",
        "dfmin = df.groupby('month') \\\n",
        "    .temp \\\n",
        "    .min() \\\n",
        "    .to_frame('min_temp')\n",
        "\n",
        "df2['min_temp'] = dfmin['min_temp'] # combine columns\n",
        "\n",
        "# no need to sort, this is not top 10\n",
        "\n",
        "### TASK 3 ###\n",
        "\n",
        "df = pd.read_csv(\"/content/drive/MyDrive/Zoom-Recordings-Common/dataset/dataset_csv/dataset-forest-fire/forestfires.csv\")\n",
        "df.columns = ['X', 'Y', 'month', 'day', 'FFMC', 'DMC', 'DC', 'ISI', 'temp', 'RH', 'wind', 'rain', 'area']\n",
        "\n",
        "df = df.drop(df.columns[[0, 1, 3, 4, 5, 6, 7, 8, 9, 11, 12]], axis=1) # remove unnecessary columns\n",
        "\n",
        "# getting max temperatures\n",
        "df3 = df.groupby('month') \\\n",
        "    .wind \\\n",
        "    .max() \\\n",
        "    .to_frame('max_wind')\n",
        "\n",
        "# getting min temperatures\n",
        "dfmin = df.groupby('month') \\\n",
        "    .wind \\\n",
        "    .min() \\\n",
        "    .to_frame('min_wind')\n",
        "\n",
        "df3['min_wind'] = dfmin['min_wind'] # combine columns\n",
        "\n",
        "### TASK 4 ###\n",
        "\n",
        "df = pd.read_csv(\"/content/drive/MyDrive/Zoom-Recordings-Common/dataset/dataset_csv/dataset-forest-fire/forestfires.csv\")\n",
        "df.columns = ['X', 'Y', 'month', 'day', 'FFMC', 'DMC', 'DC', 'ISI', 'temp', 'RH', 'wind', 'rain', 'area']\n",
        "\n",
        "df = df.drop(df.columns[[0, 1, 3, 4, 5, 6, 7, 8, 10, 11, 12]], axis=1) # remove unnecessary columns\n",
        "\n",
        "# getting max temperatures\n",
        "df4 = df.groupby('month') \\\n",
        "    .RH \\\n",
        "    .max() \\\n",
        "    .to_frame('max_rh')\n",
        "\n",
        "# getting min temperatures\n",
        "dfmin = df.groupby('month') \\\n",
        "    .RH \\\n",
        "    .min() \\\n",
        "    .to_frame('min_rh')\n",
        "\n",
        "df4['min_rh'] = dfmin['min_rh'] # combine columns\\\n",
        "\n",
        "### RESULT ###\n",
        "\n",
        "# combining dataframes\n",
        "result = pd.concat([df1, df2, df3, df4], axis=1)\n",
        "\n",
        "print(result)"
      ],
      "metadata": {
        "colab": {
          "base_uri": "https://localhost:8080/"
        },
        "id": "SbSle6ADMYb3",
        "outputId": "17cb5031-fbd8-4095-86d7-3f9b0189e295"
      },
      "execution_count": 7,
      "outputs": [
        {
          "output_type": "stream",
          "name": "stdout",
          "text": [
            "       area_sum  max_temp  min_temp  max_wind  min_wind  max_rh  min_rh\n",
            "month                                                                  \n",
            "aug     2297.99      33.3       5.1       8.9       0.4      96      19\n",
            "jul      459.83      30.2      12.6       8.0       0.9      90      22\n",
            "mar      235.26      18.8       5.3       9.4       0.9      99      18\n",
            "feb      125.50      15.7       4.2       9.4       0.9      82      35\n",
            "dec      119.97       5.1       2.2       8.5       4.9      61      21\n",
            "jun       99.30      28.0      10.6       9.4       1.3      90      25\n",
            "apr       80.02      17.6       5.8       9.4       1.8      75      20\n",
            "may       38.48      18.0      11.3       4.9       4.0      94      40\n",
            "jan        0.00       5.3       5.2       3.1       0.9     100      78\n",
            "nov        0.00      11.8      11.8       4.5       4.5      31      31\n",
            "oct         NaN      21.7      11.3       5.4       0.9      60      24\n",
            "sep         NaN      30.2       9.8       7.6       0.9      86      15\n"
          ]
        }
      ]
    },
    {
      "cell_type": "markdown",
      "source": [
        "# TASK 6\n",
        "Plot a group bar chart for the output in question 5. \\\n",
        "\n",
        "*X-axis -> Month* \\\n",
        "*Bar 1 -> highest_temp* \\\n",
        "*Bar 2 -> highest_wind* \\\n",
        "*Bar 3 -> highest_rh* \\"
      ],
      "metadata": {
        "id": "AGUY-bi11Uob"
      }
    },
    {
      "cell_type": "code",
      "source": [
        "import pandas as pd\n",
        "import matplotlib.pyplot as plt\n",
        "\n",
        "\n",
        "### TASK 1 ###\n",
        "\n",
        "df = pd.read_csv(\"/content/drive/MyDrive/Zoom-Recordings-Common/dataset/dataset_csv/dataset-forest-fire/forestfires.csv\")\n",
        "df.columns = ['X', 'Y', 'month', 'day', 'FFMC', 'DMC', 'DC', 'ISI', 'temp', 'RH', 'wind', 'rain', 'area']\n",
        "\n",
        "df = df.drop(df.columns[[0, 1, 3, 4, 5, 6, 7, 8, 9, 10, 11]], axis=1) # remove unnecessary columns\n",
        "\n",
        "df = df.groupby('month') \\\n",
        "    .area \\\n",
        "    .sum() \\\n",
        "    .to_frame('area_sum') \\\n",
        "    .head(10) # sorting months by amount of hectares burned\n",
        "\n",
        "df1 = df.sort_values('area_sum', ascending=False)\n",
        "\n",
        "### TASK 2 ###\n",
        "\n",
        "df = pd.read_csv(\"/content/drive/MyDrive/Zoom-Recordings-Common/dataset/dataset_csv/dataset-forest-fire/forestfires.csv\")\n",
        "df.columns = ['X', 'Y', 'month', 'day', 'FFMC', 'DMC', 'DC', 'ISI', 'temp', 'RH', 'wind', 'rain', 'area']\n",
        "\n",
        "df = df.drop(df.columns[[0, 1, 3, 4, 5, 6, 7, 9, 10, 11, 12]], axis=1) # remove unnecessary columns\n",
        "\n",
        "# getting max temperatures\n",
        "df2 = df.groupby('month') \\\n",
        "    .temp \\\n",
        "    .max() \\\n",
        "    .to_frame('max_temp')\n",
        "\n",
        "# getting min temperatures\n",
        "dfmin = df.groupby('month') \\\n",
        "    .temp \\\n",
        "    .min() \\\n",
        "    .to_frame('min_temp')\n",
        "\n",
        "df2['min_temp'] = dfmin['min_temp'] # combine columns\n",
        "\n",
        "# no need to sort, this is not top 10\n",
        "\n",
        "### TASK 3 ###\n",
        "\n",
        "df = pd.read_csv(\"/content/drive/MyDrive/Zoom-Recordings-Common/dataset/dataset_csv/dataset-forest-fire/forestfires.csv\")\n",
        "df.columns = ['X', 'Y', 'month', 'day', 'FFMC', 'DMC', 'DC', 'ISI', 'temp', 'RH', 'wind', 'rain', 'area']\n",
        "\n",
        "df = df.drop(df.columns[[0, 1, 3, 4, 5, 6, 7, 8, 9, 11, 12]], axis=1) # remove unnecessary columns\n",
        "\n",
        "# getting max temperatures\n",
        "df3 = df.groupby('month') \\\n",
        "    .wind \\\n",
        "    .max() \\\n",
        "    .to_frame('max_wind')\n",
        "\n",
        "# getting min temperatures\n",
        "dfmin = df.groupby('month') \\\n",
        "    .wind \\\n",
        "    .min() \\\n",
        "    .to_frame('min_wind')\n",
        "\n",
        "df3['min_wind'] = dfmin['min_wind'] # combine columns\n",
        "\n",
        "### TASK 4 ###\n",
        "\n",
        "df = pd.read_csv(\"/content/drive/MyDrive/Zoom-Recordings-Common/dataset/dataset_csv/dataset-forest-fire/forestfires.csv\")\n",
        "df.columns = ['X', 'Y', 'month', 'day', 'FFMC', 'DMC', 'DC', 'ISI', 'temp', 'RH', 'wind', 'rain', 'area']\n",
        "\n",
        "df = df.drop(df.columns[[0, 1, 3, 4, 5, 6, 7, 8, 10, 11, 12]], axis=1) # remove unnecessary columns\n",
        "\n",
        "# getting max temperatures\n",
        "df4 = df.groupby('month') \\\n",
        "    .RH \\\n",
        "    .max() \\\n",
        "    .to_frame('max_rh')\n",
        "\n",
        "# getting min temperatures\n",
        "dfmin = df.groupby('month') \\\n",
        "    .RH \\\n",
        "    .min() \\\n",
        "    .to_frame('min_rh')\n",
        "\n",
        "df4['min_rh'] = dfmin['min_rh'] # combine columns\\\n",
        "\n",
        "### MERGING ###\n",
        "\n",
        "# combining dataframes\n",
        "result = pd.concat([df1, df2, df3, df4], axis=1)\n",
        "\n",
        "## PLOTTING ##\n",
        "\n",
        "# creating dataframe with columns for plotting\n",
        "plotdf = pd.DataFrame(\n",
        "    {'highest_temp': result.max_temp.to_list(),\n",
        "     'highest_wind': result.max_wind.to_list(),\n",
        "     'highest_rh': result.max_rh.to_list()},\n",
        "    index=result.index.to_list()\n",
        ")\n",
        "\n",
        "# df.plot can be used with ease over here (matplotlib)\n",
        "\n",
        "ax = plotdf.plot.bar(rot=0)"
      ],
      "metadata": {
        "colab": {
          "base_uri": "https://localhost:8080/",
          "height": 430
        },
        "id": "mlRFL3q_1hwy",
        "outputId": "b5d5c31b-0d5b-4028-c18e-983de59edcd9"
      },
      "execution_count": 29,
      "outputs": [
        {
          "output_type": "display_data",
          "data": {
            "text/plain": [
              "<Figure size 640x480 with 1 Axes>"
            ],
            "image/png": "[encoded data removed]"
          },
          "metadata": {}
        }
      ]
    }
  ]
}